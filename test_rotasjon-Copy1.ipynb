{
 "cells": [
  {
   "cell_type": "code",
   "execution_count": 1,
   "id": "sublime-foster",
   "metadata": {},
   "outputs": [],
   "source": [
    "import xarray as xr\n",
    "import math \n",
    "import numpy as np \n",
    "import matplotlib.pyplot as plt \n",
    "import s3fs"
   ]
  },
  {
   "cell_type": "code",
   "execution_count": 2,
   "id": "marine-testimony",
   "metadata": {},
   "outputs": [],
   "source": [
    "# open the data with s3fs from the databucket \n",
    "fsg = s3fs.S3FileSystem(anon=False,\n",
    "      client_kwargs={\n",
    "         'endpoint_url': 'https://karen.uiogeo-apps.sigma2.no'\n",
    "      })\n",
    "data_path2 = 's3://velocity-u.zarr'\n",
    "data_path3 = 's3://velocity-v.zarr'\n",
    "\n",
    "remote_files2 = fsg.glob(data_path2)\n",
    "remote_files3 = fsg.glob(data_path3)\n",
    "\n",
    "store2 = s3fs.S3Map(root=data_path2, s3=fsg, check=False)\n",
    "store3 = s3fs.S3Map(root=data_path3, s3=fsg, check=False)\n",
    "\n",
    "du = xr.open_zarr(store=store2, consolidated=True)\n",
    "dv = xr.open_zarr(store=store3, consolidated=True)"
   ]
  },
  {
   "cell_type": "code",
   "execution_count": 3,
   "id": "organized-referral",
   "metadata": {},
   "outputs": [],
   "source": [
    "u = du.vozocrtx.isel(x=slice(200,1400),y=slice(650,1800)).rename({'depthu' : 'depth'})\n",
    "v = dv.vomecrty.isel(x=slice(200,1400),y=slice(650,1800)).rename({'depthv' : 'depth'})"
   ]
  },
  {
   "cell_type": "code",
   "execution_count": 4,
   "id": "instructional-terrace",
   "metadata": {},
   "outputs": [],
   "source": [
    "x = 836\n",
    "y = 440\n",
    "d = 15\n",
    "t = 50\n",
    "u = np.array(du.vozocrtx.isel(x=x,y=y,depthu=d,time_counter=t).values)\n",
    "v = np.array(dv.vomecrty.isel(x=x,y=y,depthv=d,time_counter=t).values)"
   ]
  },
  {
   "cell_type": "code",
   "execution_count": 26,
   "id": "elementary-sixth",
   "metadata": {},
   "outputs": [
    {
     "data": {
      "text/plain": [
       "<matplotlib.lines.Line2D at 0x7f9cf744aa30>"
      ]
     },
     "execution_count": 26,
     "metadata": {},
     "output_type": "execute_result"
    },
    {
     "data": {
      "image/png": "[encoded data removed]",
      "text/plain": [
       "<Figure size 432x288 with 1 Axes>"
      ]
     },
     "metadata": {
      "needs_background": "light"
     },
     "output_type": "display_data"
    }
   ],
   "source": [
    "fig, ax = plt.subplots()\n",
    "ax.scatter(u,v)\n",
    "ax.set_aspect('equal')\n",
    "ax.grid('on')\n",
    "ax.axvline(0.1025, color='k', linestyle = '--')\n",
    "ax.axhline(0.151, color='k', linestyle = '--')"
   ]
  },
  {
   "cell_type": "code",
   "execution_count": null,
   "id": "cosmetic-circus",
   "metadata": {},
   "outputs": [],
   "source": []
  },
  {
   "cell_type": "code",
   "execution_count": 14,
   "id": "chief-candy",
   "metadata": {},
   "outputs": [
    {
     "name": "stdout",
     "output_type": "stream",
     "text": [
      "2 4\n"
     ]
    }
   ],
   "source": [
    "vec = np.array([2,4])\n",
    "print(vec[0],vec[1])\n",
    "\n",
    "velp = (u*vec[0] + v*vec[1])/np.sqrt(vec[0]**2+vec[1]**2)\n",
    "velo = (- u*vec[1] + v*vec[0])/np.sqrt(vec[0]**2+vec[1]**2) #rotere vector [x,y] 90 grader m/klokka = [x,-y]"
   ]
  },
  {
   "cell_type": "code",
   "execution_count": 39,
   "id": "severe-partnership",
   "metadata": {},
   "outputs": [
    {
     "data": {
      "text/plain": [
       "(-0.2, 0.2)"
      ]
     },
     "execution_count": 39,
     "metadata": {},
     "output_type": "execute_result"
    },
    {
     "data": {
      "image/png": "[encoded data removed]",
      "text/plain": [
       "<Figure size 432x288 with 1 Axes>"
      ]
     },
     "metadata": {
      "needs_background": "light"
     },
     "output_type": "display_data"
    }
   ],
   "source": [
    "fig, ax = plt.subplots()\n",
    "ax.scatter(velp,velo,color='pink')\n",
    "ax.scatter(u,v,color='b')\n",
    "ax.set_aspect('equal')\n",
    "ax.grid('on')\n",
    "ax.plot([0,vec[0]],[0,vec[1]],'r')\n",
    "ax.plot([0,-vec[0]],[0,-vec[1]],'r')\n",
    "ax.plot([0,-vec[1]],[0,vec[0]],'g')\n",
    "ax.plot([0,vec[1]],[0,-vec[0]],'g')\n",
    "ax.axvline(0.1025, color='k', linestyle = '--')\n",
    "ax.axhline(0.151, color='k', linestyle = '--')\n",
    "ax.set_xlim(0,0.2)\n",
    "ax.set_ylim(-0.2,0.2)"
   ]
  },
  {
   "cell_type": "code",
   "execution_count": 35,
   "id": "emerging-voltage",
   "metadata": {},
   "outputs": [],
   "source": [
    "v_r = np.array(vel_r.vpar.values)\n",
    "v_o = np.array(vel_r.vort.values)"
   ]
  },
  {
   "cell_type": "code",
   "execution_count": 36,
   "id": "communist-healing",
   "metadata": {},
   "outputs": [
    {
     "data": {
      "text/plain": [
       "(-0.02, 0.02)"
      ]
     },
     "execution_count": 36,
     "metadata": {},
     "output_type": "execute_result"
    },
    {
     "data": {
      "image/png": "[encoded data removed]",
      "text/plain": [
       "<Figure size 432x288 with 1 Axes>"
      ]
     },
     "metadata": {
      "needs_background": "light"
     },
     "output_type": "display_data"
    }
   ],
   "source": [
    "fig, ax = plt.subplots()\n",
    "ax.scatter(v_r,v_o,s=6)\n",
    "ax.plot([0,vec[0]],[0,vec[1]],'r')\n",
    "ax.plot([0,-vec[0]],[0,-vec[1]],'r')\n",
    "ax.plot([0,-vec[1]],[0,vec[0]],'g')\n",
    "ax.plot([0,vec[1]],[0,-vec[0]],'g')\n",
    "ax.set_xlim(-0.02,0.02)\n",
    "ax.set_ylim(-0.02,0.02)"
   ]
  },
  {
   "cell_type": "code",
   "execution_count": 38,
   "id": "enhanced-monthly",
   "metadata": {},
   "outputs": [
    {
     "name": "stdout",
     "output_type": "stream",
     "text": [
      "[2 4] [-4  2]\n",
      "0\n"
     ]
    }
   ],
   "source": [
    "#a = np.array([2,4])\n",
    "#b = np.array([-4,2])\n",
    "a = np.array([vec[0],vec[1]])\n",
    "b = np.array([-vec[1],vec[0]])\n",
    "print(a,b)\n",
    "d = np.dot(a,b)\n",
    "print(d) # d=0 --> disse skal være orthogonale "
   ]
  },
  {
   "cell_type": "code",
   "execution_count": 23,
   "id": "engaging-christmas",
   "metadata": {},
   "outputs": [
    {
     "name": "stdout",
     "output_type": "stream",
     "text": [
      "0.033244369328891354\n",
      "0.033244369328891354\n"
     ]
    }
   ],
   "source": [
    "# teste amplitude : \n",
    "af = u**2 + v**2\n",
    "ae = velp**2 + velo**2\n",
    "print(af)\n",
    "print(ae)"
   ]
  },
  {
   "cell_type": "code",
   "execution_count": null,
   "id": "altered-machine",
   "metadata": {},
   "outputs": [],
   "source": []
  }
 ],
 "metadata": {
  "kernelspec": {
   "display_name": "Python 3",
   "language": "python",
   "name": "python3"
  },
  "language_info": {
   "codemirror_mode": {
    "name": "ipython",
    "version": 3
   },
   "file_extension": ".py",
   "mimetype": "text/x-python",
   "name": "python",
   "nbconvert_exporter": "python",
   "pygments_lexer": "ipython3",
   "version": "3.8.8"
  }
 },
 "nbformat": 4,
 "nbformat_minor": 5
}
