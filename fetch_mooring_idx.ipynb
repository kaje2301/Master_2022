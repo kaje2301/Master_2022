{
 "cells": [
  {
   "cell_type": "code",
   "execution_count": 1,
   "id": "front-watershed",
   "metadata": {},
   "outputs": [],
   "source": [
    "# importing tools \n",
    "import s3fs\n",
    "import xarray as xr\n",
    "import numpy as np \n",
    "import matplotlib.pyplot as plt \n",
    "#for removing warnings\n",
    "import warnings"
   ]
  },
  {
   "cell_type": "code",
   "execution_count": 2,
   "id": "pretty-mongolia",
   "metadata": {},
   "outputs": [],
   "source": [
    "# open the data with s3fs from the databucket \n",
    "fsg = s3fs.S3FileSystem(anon=False,\n",
    "      client_kwargs={\n",
    "         'endpoint_url': 'https://karen.uiogeo-apps.sigma2.no'\n",
    "      })\n",
    "data_path1 = 's3://data/CREG12.L75-REF08_mesh_zgr.zarr'\n",
    "data_path2 = 's3://data/vel_dataIII.zarr/vel_dataIII.zarr'\n",
    "data_path3 = 's3://data/lat_lon_scalar.zarr'\n",
    "\n",
    "remote_files1 = fsg.glob(data_path1)\n",
    "remote_files2 = fsg.glob(data_path2)\n",
    "remote_files3 = fsg.glob(data_path3)\n",
    "\n",
    "store1 = s3fs.S3Map(root=data_path1, s3=fsg, check=False)\n",
    "store2 = s3fs.S3Map(root=data_path2, s3=fsg, check=False)\n",
    "store3 = s3fs.S3Map(root=data_path3, s3=fsg, check=False)\n",
    "\n",
    "dzz = xr.open_zarr(store=store1, consolidated=True)\n",
    "dv = xr.open_zarr(store=store2, consolidated=True)\n",
    "dl = xr.open_zarr(store=store3, consolidated=True)"
   ]
  },
  {
   "cell_type": "code",
   "execution_count": 3,
   "id": "derived-spyware",
   "metadata": {},
   "outputs": [],
   "source": [
    "bathym = dzz.mbathy.isel(x=slice(200,1400),y=slice(650,1800))"
   ]
  },
  {
   "cell_type": "code",
   "execution_count": 4,
   "id": "associate-usage",
   "metadata": {},
   "outputs": [],
   "source": [
    "lat = dzz.nav_lat.isel(x=slice(200,1400),y=slice(650,1800))\n",
    "lon = dzz.nav_lon.isel(x=slice(200,1400),y=slice(650,1800))\n",
    "lon_flat = dzz.nav_lon.isel(x=slice(200,1400),y=slice(650,1800)).values.flatten()\n",
    "lat_flat = dzz.nav_lat.isel(x=slice(200,1400),y=slice(650,1800)).values.flatten()"
   ]
  },
  {
   "cell_type": "markdown",
   "id": "desirable-money",
   "metadata": {},
   "source": [
    "# Prøver å finne y,x index for mooringene "
   ]
  },
  {
   "cell_type": "code",
   "execution_count": 5,
   "id": "developed-karen",
   "metadata": {},
   "outputs": [],
   "source": [
    "p_list = [(31.13247,81.24202),(31.13533,81.24255),(31.14506,81.24587)\n",
    "          ,(011.1189, 69.5289),(013.16845,68.58759),(013.19866,68.56109),(012.45082,68.50128)\n",
    "          ,(5.57541,79.37209),(5.48733,80.03876),(5.56333,79.44093)\n",
    "          ,(-152.04848,71.39398),(-152.04848,71.39398),(-152.05077,71.39432),(-152.05066,71.39435)]"
   ]
  },
  {
   "cell_type": "code",
   "execution_count": 5,
   "id": "challenging-residence",
   "metadata": {},
   "outputs": [],
   "source": [
    "'Updated p_list, adding chukchi sea moorings'\n",
    " #[(31.13247,81.24202),(31.13533,81.24255),(31.14506,81.24587)\n",
    "          #,(011.1189, 69.5289),(013.16845,68.58759),(013.19866,68.56109),(012.45082,68.50128)\n",
    "          #,(5.57541,79.37209),(5.48733,80.03876),(5.56333,79.44093)\n",
    "          #,(-152.04848,71.39398),(-152.04848,71.39398),(-152.05077,71.39432),(-152.05066,71.39435)\n",
    "#p_list = [(-160.4923,72.121),(-159.1216,72.1628),(-158.5512,72.1815),(-163.5346,72.2808),(-164.0992,72.5252)]\n",
    "p_list = [(24.00000,81.24925),\n",
    "          (18.29052,81.10979),\n",
    "          (23.59853,81.30813),\n",
    "          (18.23789,81.22686),\n",
    "          (23.59982,81.35453),\n",
    "          (18.23730,81.27356)]"
   ]
  },
  {
   "cell_type": "code",
   "execution_count": 104,
   "id": "tribal-newfoundland",
   "metadata": {},
   "outputs": [
    {
     "name": "stdout",
     "output_type": "stream",
     "text": [
      "punkter jeg er ferdig med er :(23.59982, 81.35453), neste punkter er (18.2373, 81.27356)\n"
     ]
    }
   ],
   "source": [
    "print(f'punkter jeg er ferdig med er :{p_list[4]}, neste punkter er {p_list[5]}')\n",
    "p = p_list[5]"
   ]
  },
  {
   "cell_type": "markdown",
   "id": "turkish-howard",
   "metadata": {},
   "source": [
    "# Trying to find the closest latitude value and longitude value in the model to the moorings lat lon \n",
    "lat_value = [min(lat_flat, key=lambda x:abs(x-h)) for h in [p[1]]]\n",
    "lon_value = [min(lon_flat, key=lambda x:abs(x-h)) for h in [p[0]]]\n",
    "print('lat value closest to point ', p[1],'is ', lat_value)\n",
    "print('lon value closest to point ', p[0],'is ', lon_value)"
   ]
  },
  {
   "cell_type": "code",
   "execution_count": 105,
   "id": "spoken-personal",
   "metadata": {},
   "outputs": [
    {
     "name": "stdout",
     "output_type": "stream",
     "text": [
      "index for lat : (array([415, 775]), array([808, 808]))\n",
      "index for lon : (array([397]), array([839]))\n",
      "---------------------------\n",
      "lat values:  [[81.24925 81.24925]\n",
      " [81.24925 81.24925]]\n",
      "lon values with lat idx:  [[ 21.464016  21.464016]\n",
      " [124.53599  124.53599 ]]\n",
      "---------------------------\n",
      "lon values:  [[23.999846]]\n",
      "lat values with lon idx:  [[79.91783]]\n",
      "-----------------------------\n"
     ]
    }
   ],
   "source": [
    "# Trying to find the x,y index to lat,lon value in the model \n",
    "idx_lat = np.where(lat.values==lat_value)\n",
    "idx_lon = np.where(lon.values==lon_value)\n",
    "print('index for lat :', idx_lat)\n",
    "print('index for lon :', idx_lon)\n",
    "print('---------------------------')\n",
    "print('lat values: ', lat[idx_lat].values)\n",
    "print('lon values with lat idx: ', lon[idx_lat].values)\n",
    "print('---------------------------')\n",
    "print('lon values: ', lon[idx_lon].values)\n",
    "print('lat values with lon idx: ', lat[idx_lon].values)\n",
    "print('-----------------------------')"
   ]
  },
  {
   "cell_type": "markdown",
   "id": "blank-greene",
   "metadata": {},
   "source": [
    "Because the closest latitude and longitude found by the methode above gave different index for lat lon, the closest latitude/longentude to the point found are porbably at different locations. Take also the abs, so could even be negative side, since the lon goes from -180,180...\n",
    "\n",
    "Need to find the longitude line where I think the closest latitude is for so to vertify myself:\n",
    "\n",
    "- Assumes that the grid is shaped 'round', so to find closest lat,lon to moorigspoint I need to first find the longitude line closest to mooring longitude, for so on that line find the closest latitude point myself."
   ]
  },
  {
   "cell_type": "code",
   "execution_count": 106,
   "id": "czech-guide",
   "metadata": {},
   "outputs": [],
   "source": [
    "idx_l = []\n",
    "diff_lon = []\n",
    "lon_l = []\n",
    "for i,item in enumerate(lon_flat):\n",
    "    d = item - p[0]\n",
    "    if abs(d)<0.5:\n",
    "        idx_l.append(i) \n",
    "        diff_lon.append(d) \n",
    "        lon_l.append(item)"
   ]
  },
  {
   "cell_type": "code",
   "execution_count": 107,
   "id": "undefined-dominant",
   "metadata": {},
   "outputs": [],
   "source": [
    "diff_lonlat = []\n",
    "diff_lat = []\n",
    "idx_lat = []\n",
    "for i in idx_l:\n",
    "    d = lat_flat[i]-p[1]\n",
    "    if abs(d)<0.5:\n",
    "        diff_lonlat.append(d)\n",
    "        diff_lat.append(lat_flat[i])\n",
    "        idx_lat.append(i)"
   ]
  },
  {
   "cell_type": "code",
   "execution_count": 113,
   "id": "small-camping",
   "metadata": {},
   "outputs": [
    {
     "name": "stdout",
     "output_type": "stream",
     "text": [
      "81.27356\n",
      "18.2373\n",
      "[80.804474, 80.7823, 80.83832, 80.81607, 80.793724, 80.8943, 80.87208, 80.849754, 80.82733, 80.8048, 80.95026, 80.928055, 80.905754, 80.883354, 80.86085, 81.00618, 80.984, 80.961716, 80.93934, 80.91686, 81.062065, 81.03991, 81.017654, 80.99529, 80.97284, 80.95028, 81.09579, 81.073555, 81.05122, 81.028786, 81.00625, 81.151634, 81.129425, 81.10711, 81.0847, 81.06219, 81.20745, 81.185265, 81.16297, 81.14058, 81.11809, 81.26323, 81.241066, 81.2188, 81.196434, 81.173965, 81.296844, 81.2746, 81.25225, 81.229805, 81.20725, 81.35258, 81.33036, 81.30804, 81.285614, 81.263084, 81.40828, 81.386086, 81.36379, 81.34139, 81.318886, 81.46395, 81.44178, 81.41951, 81.39713, 81.37465, 81.51959, 81.497444, 81.4752, 81.45284, 81.43038, 81.55308, 81.53085, 81.50852, 81.486084, 81.60867, 81.58647, 81.56416, 81.54175, 81.51923, 81.66423, 81.64205, 81.619774, 81.59738, 81.57488, 81.71975, 81.6976, 81.67535, 81.65298, 81.63051, 81.75311, 81.73088, 81.70854, 81.6861, 81.76408, 81.74165]\n",
      "(array([408, 782]), array([797, 797]))\n"
     ]
    }
   ],
   "source": [
    "print(p[1])\n",
    "print(p[0])\n",
    "print(diff_lat)\n",
    "#print(idx_lat[58])\n",
    "#print(lat_flat[idx_lat[90:110]])\n",
    "#print(lon_flat[idx_lat[90:110]])\n",
    "print(np.where(lat.values==lat_flat[idx_lat[47]]))\n",
    "i_lat = np.where(lat.values==lat_flat[idx_lat[47]])"
   ]
  },
  {
   "cell_type": "code",
   "execution_count": 112,
   "id": "stretch-colonial",
   "metadata": {},
   "outputs": [
    {
     "name": "stdout",
     "output_type": "stream",
     "text": [
      "81.27356\n",
      "[81.11809, 81.26323, 81.241066, 81.2188, 81.196434, 81.173965, 81.296844, 81.2746, 81.25225, 81.229805]\n"
     ]
    },
    {
     "data": {
      "text/plain": [
       "81.2746"
      ]
     },
     "execution_count": 112,
     "metadata": {},
     "output_type": "execute_result"
    }
   ],
   "source": [
    "print(p[1])\n",
    "print(diff_lat[40:50])\n",
    "diff_lat[47]"
   ]
  },
  {
   "cell_type": "code",
   "execution_count": 118,
   "id": "premium-asset",
   "metadata": {},
   "outputs": [
    {
     "name": "stdout",
     "output_type": "stream",
     "text": [
      "797\n",
      "408\n"
     ]
    }
   ],
   "source": [
    "print(i_lat[1][0])\n",
    "print(i_lat[0][0])"
   ]
  },
  {
   "cell_type": "code",
   "execution_count": 41,
   "id": "european-compact",
   "metadata": {},
   "outputs": [
    {
     "data": {
      "text/plain": [
       "100"
      ]
     },
     "execution_count": 41,
     "metadata": {},
     "output_type": "execute_result"
    }
   ],
   "source": [
    "len(diff_lat)"
   ]
  },
  {
   "cell_type": "code",
   "execution_count": 33,
   "id": "nasty-train",
   "metadata": {},
   "outputs": [],
   "source": [
    "#idx_moor = []"
   ]
  },
  {
   "cell_type": "code",
   "execution_count": 119,
   "id": "adopted-coordination",
   "metadata": {},
   "outputs": [],
   "source": [
    "idx_moor.append((i_lat[1][0],i_lat[0][0]+6))"
   ]
  },
  {
   "cell_type": "code",
   "execution_count": 120,
   "id": "impressive-quebec",
   "metadata": {},
   "outputs": [
    {
     "data": {
      "text/plain": [
       "[(817, 425), (800, 405), (810, 425), (802, 413), (810, 427), (797, 414)]"
      ]
     },
     "execution_count": 120,
     "metadata": {},
     "output_type": "execute_result"
    }
   ],
   "source": [
    "idx_moor"
   ]
  },
  {
   "cell_type": "code",
   "execution_count": 124,
   "id": "heard-banana",
   "metadata": {},
   "outputs": [
    {
     "data": {
      "text/plain": [
       "(330.0, 450.0)"
      ]
     },
     "execution_count": 124,
     "metadata": {},
     "output_type": "execute_result"
    },
    {
     "data": {
      "image/png": "[encoded data removed]",
      "text/plain": [
       "<Figure size 1080x504 with 2 Axes>"
      ]
     },
     "metadata": {
      "needs_background": "light"
     },
     "output_type": "display_data"
    }
   ],
   "source": [
    "fig, ax = plt.subplots(figsize=(15,7))\n",
    "bathym.plot()\n",
    "ax.plot(i_lat[1][0],i_lat[0][0]+7, marker='o', color='r')\n",
    "ax.plot(i_lat[1][1],i_lat[0][1], marker='o', color='orange')\n",
    "#ax.plot(idx_moor[0][0],idx_moor[0][1], marker='o', color='g')\n",
    "\n",
    "\n",
    "'not sure whether np.where give x or y first.....'\n",
    "#ax.plot(idx_lat[0][0],idx_lat[0][1], marker='o', color='y')\n",
    "#ax.plot(idx_lat[1][0],idx_lat[1][1], marker='o', color='pink')\n",
    "\n",
    "#ax.plot(idx_lon[1][0],idx_lon[0][0], marker='o', color='orange')\n",
    "ax.set_aspect('equal')\n",
    "ax.grid('on')\n",
    "ax.set_xlim(770,880)\n",
    "ax.set_ylim(330,450)"
   ]
  },
  {
   "cell_type": "code",
   "execution_count": 38,
   "id": "linear-gabriel",
   "metadata": {},
   "outputs": [
    {
     "name": "stdout",
     "output_type": "stream",
     "text": [
      "OK, funker for p_list[0], må sjekke for de andre også!\n"
     ]
    }
   ],
   "source": [
    "print('OK, funker for p_list[0], må sjekke for de andre også!')"
   ]
  },
  {
   "cell_type": "code",
   "execution_count": null,
   "id": "similar-landing",
   "metadata": {},
   "outputs": [],
   "source": []
  }
 ],
 "metadata": {
  "kernelspec": {
   "display_name": "Python 3",
   "language": "python",
   "name": "python3"
  },
  "language_info": {
   "codemirror_mode": {
    "name": "ipython",
    "version": 3
   },
   "file_extension": ".py",
   "mimetype": "text/x-python",
   "name": "python",
   "nbconvert_exporter": "python",
   "pygments_lexer": "ipython3",
   "version": "3.8.8"
  }
 },
 "nbformat": 4,
 "nbformat_minor": 5
}
