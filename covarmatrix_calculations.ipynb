{
 "cells": [
  {
   "cell_type": "code",
   "execution_count": 1,
   "id": "light-intro",
   "metadata": {},
   "outputs": [],
   "source": [
    "import xarray as xr \n",
    "import numpy as np \n",
    "import matplotlib.pyplot as plt \n",
    "import s3fs\n",
    "import warnings \n",
    "import math"
   ]
  },
  {
   "cell_type": "markdown",
   "id": "relevant-daniel",
   "metadata": {},
   "source": [
    "Open U data"
   ]
  },
  {
   "cell_type": "code",
   "execution_count": null,
   "id": "paperback-yeast",
   "metadata": {},
   "outputs": [],
   "source": [
    "# open the data with s3fs from the databucket \n",
    "fsg = s3fs.S3FileSystem(anon=False,\n",
    "      client_kwargs={\n",
    "         'endpoint_url': 'https://karen.uiogeo-apps.sigma2.no'\n",
    "      })\n",
    "data_path = 's3://velocity-u.zarr/'\n",
    "remote_files = fsg.glob(data_path)\n",
    "\n",
    "store = s3fs.S3Map(root=data_path, s3=fsg, check=False)\n",
    "du = xr.open_zarr(store=store, consolidated=True)\n",
    "du = du.rename({'depthu' : 'depth'})\n",
    "du "
   ]
  },
  {
   "cell_type": "markdown",
   "id": "comic-holiday",
   "metadata": {},
   "source": [
    "Open V data "
   ]
  },
  {
   "cell_type": "code",
   "execution_count": null,
   "id": "right-olive",
   "metadata": {},
   "outputs": [],
   "source": [
    " open the data with s3fs from the databucket \n",
    "fsg = s3fs.S3FileSystem(anon=False,\n",
    "      client_kwargs={\n",
    "         'endpoint_url': 'https://karen.uiogeo-apps.sigma2.no'\n",
    "      })\n",
    "data_path = 's3://velocity-v.zarr/'\n",
    "remote_files = fsg.glob(data_path)\n",
    "\n",
    "store = s3fs.S3Map(root=data_path, s3=fsg, check=False)\n",
    "dv = xr.open_zarr(store=store, consolidated=True)\n",
    "dv = dv.rename({'depthv' : 'depth'})\n",
    "dv "
   ]
  },
  {
   "cell_type": "code",
   "execution_count": null,
   "id": "defined-mechanism",
   "metadata": {},
   "outputs": [],
   "source": [
    "u = du.vozocrtx\n",
    "v = dv.vomectry"
   ]
  },
  {
   "cell_type": "markdown",
   "id": "removable-income",
   "metadata": {},
   "source": [
    "Ubar and Vbar"
   ]
  },
  {
   "cell_type": "code",
   "execution_count": null,
   "id": "secret-atlantic",
   "metadata": {},
   "outputs": [],
   "source": [
    "ubar = u[0,:,:,:]\n",
    "vbar = v[0,:,:,:]\n",
    "N = 0\n",
    "\n",
    "for i in range(1,len(u.time_counter)):\n",
    "    print(i) \n",
    "    ubar += u[i,:,:,:]\n",
    "    vbar += v[i,:,:,:]\n",
    "    N += 1\n",
    "    \n",
    "ubar = ubar/N\n",
    "vbar = vbar/N"
   ]
  },
  {
   "cell_type": "markdown",
   "id": "special-cleaning",
   "metadata": {},
   "source": [
    "Uvar and Vvar"
   ]
  },
  {
   "cell_type": "code",
   "execution_count": null,
   "id": "every-material",
   "metadata": {},
   "outputs": [],
   "source": [
    "uvar = (u[0,:,:,:])**2\n",
    "vvar = (v[0,:,:,:])**2\n",
    "N = 0\n",
    "\n",
    "for i in range(1,len(u.time_counter)):\n",
    "    print(i) \n",
    "    ubar += (u[i,:,:,:])**2\n",
    "    vbar += (v[i,:,:,:])**2\n",
    "    N += 1\n",
    "    \n",
    "uvar = uvar/N - ubar**2\n",
    "vvar = vvar/N - vbar**2"
   ]
  },
  {
   "cell_type": "markdown",
   "id": "medium-professor",
   "metadata": {},
   "source": [
    "UVbar"
   ]
  },
  {
   "cell_type": "code",
   "execution_count": null,
   "id": "exciting-holocaust",
   "metadata": {},
   "outputs": [],
   "source": [
    "uvbar = (u[0,:,:,:]*v[0,:,:,:])\n",
    "N = 0 \n",
    "\n",
    "for i in range(1,len(u.time_counter)):\n",
    "    print(i) \n",
    "    uvbar += (u[i,:,:,:]*v[i,:,:,:])\n",
    "    N += 1\n",
    "uvbar = uvbar/N - ubar*vbar "
   ]
  },
  {
   "cell_type": "markdown",
   "id": "second-prague",
   "metadata": {},
   "source": [
    "Merge to one dataset "
   ]
  },
  {
   "cell_type": "code",
   "execution_count": null,
   "id": "indian-coral",
   "metadata": {},
   "outputs": [],
   "source": [
    "covmatrix_data = xr.merge([ubar.to_dataset(name = 'ubar'),\n",
    "                         vbar.to_dataset(name = 'vbar'),\n",
    "                         uvar.to_dataset(name = 'uvar'),\n",
    "                         vvar.to_dataset(name = 'vvar'),\n",
    "                         uvbar.to_dataset(name = 'uvbar')], compat='override')"
   ]
  },
  {
   "cell_type": "code",
   "execution_count": null,
   "id": "equivalent-staff",
   "metadata": {},
   "outputs": [],
   "source": []
  }
 ],
 "metadata": {
  "kernelspec": {
   "display_name": "Python 3",
   "language": "python",
   "name": "python3"
  },
  "language_info": {
   "codemirror_mode": {
    "name": "ipython",
    "version": 3
   },
   "file_extension": ".py",
   "mimetype": "text/x-python",
   "name": "python",
   "nbconvert_exporter": "python",
   "pygments_lexer": "ipython3",
   "version": "3.8.8"
  }
 },
 "nbformat": 4,
 "nbformat_minor": 5
}
