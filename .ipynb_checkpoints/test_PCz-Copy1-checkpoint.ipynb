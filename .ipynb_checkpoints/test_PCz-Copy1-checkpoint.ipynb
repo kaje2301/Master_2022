{
 "cells": [
  {
   "cell_type": "code",
   "execution_count": 91,
   "id": "nutritional-january",
   "metadata": {},
   "outputs": [],
   "source": [
    "import math\n",
    "import xarray as xr\n",
    "import matplotlib.pyplot as plt \n",
    "import numpy as np "
   ]
  },
  {
   "cell_type": "code",
   "execution_count": 92,
   "id": "built-sugar",
   "metadata": {},
   "outputs": [
    {
     "data": {
      "text/plain": [
       "(365, 6)"
      ]
     },
     "execution_count": 92,
     "metadata": {},
     "output_type": "execute_result"
    }
   ],
   "source": [
    "level = np.linspace(0,50,6)\n",
    "depth = 50 \n",
    "time = np.linspace(0,364,365)\n",
    "omg = (2*math.pi)/20\n",
    "omg2 = (2*math.pi)/5\n",
    "A2 = 1\n",
    "A1 = 0.3*A2\n",
    "\n",
    "u = np.full((int(len(time)),int(len(level))),np.nan)\n",
    "u.shape"
   ]
  },
  {
   "cell_type": "code",
   "execution_count": 93,
   "id": "retained-nicholas",
   "metadata": {},
   "outputs": [
    {
     "data": {
      "text/plain": [
       "array([ 0., 10., 20., 30., 40., 50.])"
      ]
     },
     "execution_count": 93,
     "metadata": {},
     "output_type": "execute_result"
    }
   ],
   "source": [
    "level"
   ]
  },
  {
   "cell_type": "code",
   "execution_count": 94,
   "id": "thousand-satisfaction",
   "metadata": {},
   "outputs": [],
   "source": [
    "for t in range(len(time)): \n",
    "    for z in range(len(level)): \n",
    "        u[t,z] = A1*math.cos((math.pi/H)*level[z])+ math.sin(omg*time[t]) + A2*math.cos((math.pi/H)*level[z])*math.sin(omg2*time[t])\n",
    "        "
   ]
  },
  {
   "cell_type": "code",
   "execution_count": 122,
   "id": "sized-consciousness",
   "metadata": {},
   "outputs": [
    {
     "data": {
      "text/plain": [
       "[<matplotlib.lines.Line2D at 0x7ff2b46681f0>]"
      ]
     },
     "execution_count": 122,
     "metadata": {},
     "output_type": "execute_result"
    },
    {
     "data": {
      "image/png": "[encoded data removed]",
      "text/plain": [
       "<Figure size 432x288 with 1 Axes>"
      ]
     },
     "metadata": {
      "needs_background": "light"
     },
     "output_type": "display_data"
    }
   ],
   "source": [
    "plt.plot(u[:,0],time)"
   ]
  },
  {
   "cell_type": "code",
   "execution_count": 95,
   "id": "phantom-panel",
   "metadata": {},
   "outputs": [
    {
     "data": {
      "text/plain": [
       "(365, 6)"
      ]
     },
     "execution_count": 95,
     "metadata": {},
     "output_type": "execute_result"
    }
   ],
   "source": [
    "u.shape"
   ]
  },
  {
   "cell_type": "code",
   "execution_count": 114,
   "id": "forced-wireless",
   "metadata": {},
   "outputs": [
    {
     "name": "stdout",
     "output_type": "stream",
     "text": [
      "values:  [ 1.90279051e+00  2.13365827e-15  8.31794026e-17 -1.94779921e-16\n",
      " -1.72813297e-17  2.84461465e-17]\n",
      "------------------------------------------------------\n",
      "values[0]:  1.9027905136454386\n",
      "------------------------------------------------------\n",
      "vectors:  [[-5.34522484e-01  4.79545347e-01 -6.79444039e-01  3.60458585e-02\n",
      "   2.66516193e-05  6.29575661e-04]\n",
      " [-4.32437773e-01 -4.71820962e-01 -8.81702915e-03 -3.57693131e-01\n",
      "   4.96688112e-01 -2.92316190e-01]\n",
      " [-1.65176531e-01 -2.69512011e-01 -6.78589517e-02  6.99650585e-01\n",
      "  -5.41038487e-01 -6.10893414e-01]\n",
      " [ 1.65176531e-01  2.46839741e-01  5.14839870e-02 -5.59640029e-01\n",
      "  -4.84312470e-01 -6.85638897e-01]\n",
      " [ 4.32437773e-01  4.68560776e-01  6.46237479e-03  2.51856170e-01\n",
      "   4.75415207e-01 -2.66925532e-01]\n",
      " [ 5.34522484e-01 -4.40800927e-01 -7.28684333e-01 -6.79476844e-02\n",
      "  -2.92510271e-04  3.18572563e-03]]\n",
      "------------------------------------------------------\n",
      "vectors[0]:  [-5.34522484e-01  4.79545347e-01 -6.79444039e-01  3.60458585e-02\n",
      "  2.66516193e-05  6.29575661e-04]\n",
      "-----------------------------------------------------------\n",
      "-----------------------------------------------------------\n",
      "(6, 6)\n",
      "cov : [[ 0.54365443  0.43982567  0.16799846 -0.16799846 -0.43982567 -0.54365443]\n",
      " [ 0.43982567  0.35582645  0.13591361 -0.13591361 -0.35582645 -0.43982567]\n",
      " [ 0.16799846  0.13591361  0.05191438 -0.05191438 -0.13591361 -0.16799846]\n",
      " [-0.16799846 -0.13591361 -0.05191438  0.05191438  0.13591361  0.16799846]\n",
      " [-0.43982567 -0.35582645 -0.13591361  0.13591361  0.35582645  0.43982567]\n",
      " [-0.54365443 -0.43982567 -0.16799846  0.16799846  0.43982567  0.54365443]]\n",
      "------------------------------------------------------\n",
      "values:  [ 1.90279051e+00  2.13365827e-15  8.31794026e-17  2.84461465e-17\n",
      " -1.72813297e-17 -1.94779921e-16]\n",
      "------------------------------------------------------\n",
      "values[0]:  1.9027905136454386\n",
      "------------------------------------------------------\n",
      "vectors:  [[-5.34522484e-01  4.79545347e-01 -6.79444039e-01  6.29575661e-04\n",
      "   2.66516193e-05  3.60458585e-02]\n",
      " [-4.32437773e-01 -4.71820962e-01 -8.81702915e-03 -2.92316190e-01\n",
      "   4.96688112e-01 -3.57693131e-01]\n",
      " [-1.65176531e-01 -2.69512011e-01 -6.78589517e-02 -6.10893414e-01\n",
      "  -5.41038487e-01  6.99650585e-01]\n",
      " [ 1.65176531e-01  2.46839741e-01  5.14839870e-02 -6.85638897e-01\n",
      "  -4.84312470e-01 -5.59640029e-01]\n",
      " [ 4.32437773e-01  4.68560776e-01  6.46237479e-03 -2.66925532e-01\n",
      "   4.75415207e-01  2.51856170e-01]\n",
      " [ 5.34522484e-01 -4.40800927e-01 -7.28684333e-01  3.18572563e-03\n",
      "  -2.92510271e-04 -6.79476844e-02]]\n",
      "------------------------------------------------------\n",
      "vectors[0]:  [-5.34522484e-01  4.79545347e-01 -6.79444039e-01  6.29575661e-04\n",
      "  2.66516193e-05  3.60458585e-02]\n"
     ]
    }
   ],
   "source": [
    "cov = np.cov(u.T, bias=True) # uten .T ble den en 73x73 matrise \n",
    "values, vectors = np.linalg.eig(cov)\n",
    "print('values: ', values) \n",
    "print('------------------------------------------------------')    \n",
    "print('values[0]: ', values[0])\n",
    "print('------------------------------------------------------') \n",
    "print('vectors: ', vectors) \n",
    "print('------------------------------------------------------')\n",
    "print('vectors[0]: ', vectors[0]) \n",
    "\n",
    "order = values.argsort()[::-1]\n",
    "values_, vectors_ = values[order], vectors[:, order]\n",
    "\n",
    "print('-----------------------------------------------------------')\n",
    "print('-----------------------------------------------------------')\n",
    "\n",
    "print(cov.shape) \n",
    "print('cov :', cov)\n",
    "print('------------------------------------------------------')    \n",
    "print('values: ',values_) \n",
    "print('------------------------------------------------------')    \n",
    "print('values[0]: ',values_[0]) \n",
    "print('------------------------------------------------------')    \n",
    "print('vectors: ',vectors_) \n",
    "print('------------------------------------------------------') \n",
    "print('vectors[0]: ',vectors_[0]) "
   ]
  },
  {
   "cell_type": "code",
   "execution_count": 97,
   "id": "dynamic-thong",
   "metadata": {},
   "outputs": [
    {
     "name": "stdout",
     "output_type": "stream",
     "text": [
      "1.9027905136454386\n",
      "---------------------\n",
      "1.9027905136454386\n"
     ]
    }
   ],
   "source": [
    "print(values[0])\n",
    "print('---------------------')\n",
    "print(values_[0])"
   ]
  },
  {
   "cell_type": "code",
   "execution_count": 98,
   "id": "frequent-builder",
   "metadata": {},
   "outputs": [
    {
     "name": "stdout",
     "output_type": "stream",
     "text": [
      "[ 1.90279051e+00  2.13365827e-15  8.31794026e-17 -1.94779921e-16\n",
      " -1.72813297e-17  2.84461465e-17]\n",
      "---------------------\n",
      "[ 1.90279051e+00  2.13365827e-15  8.31794026e-17  2.84461465e-17\n",
      " -1.72813297e-17 -1.94779921e-16]\n"
     ]
    }
   ],
   "source": [
    "print(values)\n",
    "print('---------------------')\n",
    "print(values_)"
   ]
  },
  {
   "cell_type": "code",
   "execution_count": 99,
   "id": "electoral-manner",
   "metadata": {},
   "outputs": [
    {
     "name": "stdout",
     "output_type": "stream",
     "text": [
      "[-5.34522484e-01  4.79545347e-01 -6.79444039e-01  3.60458585e-02\n",
      "  2.66516193e-05  6.29575661e-04]\n",
      "---------------------\n",
      "[-5.34522484e-01  4.79545347e-01 -6.79444039e-01  6.29575661e-04\n",
      "  2.66516193e-05  3.60458585e-02]\n"
     ]
    }
   ],
   "source": [
    "print(vectors[0])\n",
    "print('---------------------')\n",
    "print(vectors_[0])"
   ]
  },
  {
   "cell_type": "code",
   "execution_count": 100,
   "id": "exempt-andrew",
   "metadata": {},
   "outputs": [
    {
     "name": "stdout",
     "output_type": "stream",
     "text": [
      "[[-5.34522484e-01  4.79545347e-01 -6.79444039e-01  3.60458585e-02\n",
      "   2.66516193e-05  6.29575661e-04]\n",
      " [-4.32437773e-01 -4.71820962e-01 -8.81702915e-03 -3.57693131e-01\n",
      "   4.96688112e-01 -2.92316190e-01]\n",
      " [-1.65176531e-01 -2.69512011e-01 -6.78589517e-02  6.99650585e-01\n",
      "  -5.41038487e-01 -6.10893414e-01]\n",
      " [ 1.65176531e-01  2.46839741e-01  5.14839870e-02 -5.59640029e-01\n",
      "  -4.84312470e-01 -6.85638897e-01]\n",
      " [ 4.32437773e-01  4.68560776e-01  6.46237479e-03  2.51856170e-01\n",
      "   4.75415207e-01 -2.66925532e-01]\n",
      " [ 5.34522484e-01 -4.40800927e-01 -7.28684333e-01 -6.79476844e-02\n",
      "  -2.92510271e-04  3.18572563e-03]]\n",
      "---------------------\n",
      "[[-5.34522484e-01  4.79545347e-01 -6.79444039e-01  6.29575661e-04\n",
      "   2.66516193e-05  3.60458585e-02]\n",
      " [-4.32437773e-01 -4.71820962e-01 -8.81702915e-03 -2.92316190e-01\n",
      "   4.96688112e-01 -3.57693131e-01]\n",
      " [-1.65176531e-01 -2.69512011e-01 -6.78589517e-02 -6.10893414e-01\n",
      "  -5.41038487e-01  6.99650585e-01]\n",
      " [ 1.65176531e-01  2.46839741e-01  5.14839870e-02 -6.85638897e-01\n",
      "  -4.84312470e-01 -5.59640029e-01]\n",
      " [ 4.32437773e-01  4.68560776e-01  6.46237479e-03 -2.66925532e-01\n",
      "   4.75415207e-01  2.51856170e-01]\n",
      " [ 5.34522484e-01 -4.40800927e-01 -7.28684333e-01  3.18572563e-03\n",
      "  -2.92510271e-04 -6.79476844e-02]]\n"
     ]
    }
   ],
   "source": [
    "print(vectors)\n",
    "print('---------------------')\n",
    "print(vectors_)"
   ]
  },
  {
   "cell_type": "code",
   "execution_count": 115,
   "id": "pleasant-bloom",
   "metadata": {},
   "outputs": [
    {
     "data": {
      "image/png": "[encoded data removed]",
      "text/plain": [
       "<Figure size 504x504 with 2 Axes>"
      ]
     },
     "metadata": {
      "needs_background": "light"
     },
     "output_type": "display_data"
    }
   ],
   "source": [
    "fig, (ax1,ax2) = plt.subplots(1,2,figsize = (7,7))\n",
    "\n",
    "ax1.plot(vectors_[0]*np.sqrt(values_[0]),level)\n",
    "ax1.axvline(0, color='r', linestyle = '--')\n",
    "ax1.invert_yaxis()\n",
    "\n",
    "ax2.plot(vectors_[1]*np.sqrt(values_[1]),level)\n",
    "ax2.axvline(0, color='r', linestyle = '--')\n",
    "ax2.invert_yaxis()"
   ]
  },
  {
   "cell_type": "code",
   "execution_count": 124,
   "id": "surgical-grove",
   "metadata": {},
   "outputs": [],
   "source": [
    "cov = np.cov(u.T, bias=True) # uten .T ble den en 73x73 matrise \n",
    "values, vectors = np.linalg.eig(cov)\n",
    "order = values.argsort()[::-1]\n",
    "values_, vectors_ = values[order], vectors[order,:]"
   ]
  },
  {
   "cell_type": "code",
   "execution_count": 125,
   "id": "amazing-builder",
   "metadata": {},
   "outputs": [
    {
     "data": {
      "image/png": "[encoded data removed]",
      "text/plain": [
       "<Figure size 504x504 with 2 Axes>"
      ]
     },
     "metadata": {
      "needs_background": "light"
     },
     "output_type": "display_data"
    }
   ],
   "source": [
    "fig, (ax1,ax2) = plt.subplots(1,2,figsize = (7,7))\n",
    "\n",
    "ax1.plot(vectors_[0]*np.sqrt(values_[0]),level)\n",
    "ax1.axvline(0, color='r', linestyle = '--')\n",
    "ax1.invert_yaxis()\n",
    "\n",
    "ax2.plot(vectors_[1]*np.sqrt(values_[1]),level)\n",
    "ax2.axvline(0, color='r', linestyle = '--')\n",
    "ax2.invert_yaxis()"
   ]
  },
  {
   "cell_type": "code",
   "execution_count": 106,
   "id": "organizational-footwear",
   "metadata": {},
   "outputs": [
    {
     "name": "stdout",
     "output_type": "stream",
     "text": [
      "1.9027905136454386\n",
      "---------------------\n",
      "1.9027905136454386\n"
     ]
    }
   ],
   "source": [
    "print(values[0])\n",
    "print('---------------------')\n",
    "print(values_[0])"
   ]
  },
  {
   "cell_type": "code",
   "execution_count": 107,
   "id": "activated-literature",
   "metadata": {},
   "outputs": [
    {
     "name": "stdout",
     "output_type": "stream",
     "text": [
      "[-5.34522484e-01  4.79545347e-01 -6.79444039e-01  3.60458585e-02\n",
      "  2.66516193e-05  6.29575661e-04]\n",
      "---------------------\n",
      "[-5.34522484e-01  4.79545347e-01 -6.79444039e-01  3.60458585e-02\n",
      "  2.66516193e-05  6.29575661e-04]\n"
     ]
    }
   ],
   "source": [
    "print(vectors[0])\n",
    "print('---------------------')\n",
    "print(vectors_[0])"
   ]
  },
  {
   "cell_type": "code",
   "execution_count": null,
   "id": "scenic-server",
   "metadata": {},
   "outputs": [],
   "source": []
  }
 ],
 "metadata": {
  "kernelspec": {
   "display_name": "Python 3",
   "language": "python",
   "name": "python3"
  },
  "language_info": {
   "codemirror_mode": {
    "name": "ipython",
    "version": 3
   },
   "file_extension": ".py",
   "mimetype": "text/x-python",
   "name": "python",
   "nbconvert_exporter": "python",
   "pygments_lexer": "ipython3",
   "version": "3.8.8"
  }
 },
 "nbformat": 4,
 "nbformat_minor": 5
}
