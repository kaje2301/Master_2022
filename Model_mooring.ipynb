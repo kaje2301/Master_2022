{
 "cells": [
  {
   "cell_type": "code",
   "execution_count": 1,
   "id": "respected-courage",
   "metadata": {},
   "outputs": [],
   "source": [
    "# importing tools \n",
    "import s3fs\n",
    "import xarray as xr\n",
    "import numpy as np \n",
    "import matplotlib.pyplot as plt \n",
    "#for removing warnings\n",
    "import warnings"
   ]
  },
  {
   "cell_type": "code",
   "execution_count": 2,
   "id": "blond-leather",
   "metadata": {},
   "outputs": [],
   "source": [
    "# open the data with s3fs from the databucket \n",
    "fsg = s3fs.S3FileSystem(anon=False,\n",
    "      client_kwargs={\n",
    "         'endpoint_url': 'https://karen.uiogeo-apps.sigma2.no'\n",
    "      })\n",
    "data_path1 = 's3://data/CREG12.L75-REF08_mesh_zgr.zarr'\n",
    "data_path2 = 's3://velocity-u.zarr'\n",
    "data_path3 = 's3://velocity-v.zarr'\n",
    "\n",
    "remote_files1 = fsg.glob(data_path1)\n",
    "remote_files2 = fsg.glob(data_path2)\n",
    "remote_files3 = fsg.glob(data_path3)\n",
    "\n",
    "store1 = s3fs.S3Map(root=data_path1, s3=fsg, check=False)\n",
    "store2 = s3fs.S3Map(root=data_path2, s3=fsg, check=False)\n",
    "store3 = s3fs.S3Map(root=data_path3, s3=fsg, check=False)\n",
    "\n",
    "dzz = xr.open_zarr(store=store1, consolidated=True)\n",
    "du = xr.open_zarr(store=store2, consolidated=True)\n",
    "dv = xr.open_zarr(store=store3, consolidated=True)"
   ]
  },
  {
   "cell_type": "code",
   "execution_count": 3,
   "id": "opposite-study",
   "metadata": {},
   "outputs": [],
   "source": [
    "def open_s3fs(path):\n",
    "    # open the data with s3fs from the databucket \n",
    "    fsg = s3fs.S3FileSystem(anon=False,\n",
    "      client_kwargs={\n",
    "         'endpoint_url': 'https://karen.uiogeo-apps.sigma2.no'\n",
    "      })\n",
    "    data_path = f's3://data/{path}'\n",
    "    remote_files = fsg.glob(data_path)\n",
    "    fileset = [fsg.open(file) for file in remote_files]\n",
    "    #open the dataset \n",
    "    dset = xr.open_mfdataset(fileset, \n",
    "                             #combine='by_coords',\n",
    "                             compat='override')\n",
    "    return dset"
   ]
  },
  {
   "cell_type": "code",
   "execution_count": 4,
   "id": "special-senate",
   "metadata": {},
   "outputs": [],
   "source": [
    "scalar = open_s3fs('CREG12.L75-REF08_mesh_hgr.nc')"
   ]
  },
  {
   "cell_type": "code",
   "execution_count": 5,
   "id": "animated-input",
   "metadata": {},
   "outputs": [],
   "source": [
    "p_list = [(31.13247,81.24202),\n",
    "          (31.13533,81.24255),\n",
    "          (31.14506,81.24587)\n",
    "          ,(011.1189, 69.5289),\n",
    "          (013.16845,68.58759),\n",
    "          (013.19866,68.56109),\n",
    "          (012.45082,68.50128),\n",
    "          (5.57541,79.37209),\n",
    "          (5.48733,80.03876),\n",
    "          (5.56333,79.44093),\n",
    "          (-160.4923,72.121),\n",
    "          (-159.1216,72.1628),\n",
    "          (-158.5512,72.1815),\n",
    "          (-163.5346,72.2808),\n",
    "          (-164.0992,72.5252)]\n",
    "moor_l = [(836, 440),\n",
    "            (838, 440),\n",
    "            (836, 439),\n",
    "            (915, 157),\n",
    "            (935, 143),\n",
    "            (938, 144),\n",
    "            (934, 141),\n",
    "            (774, 344),\n",
    "            (766, 358),\n",
    "            (773, 346),\n",
    "            (334, 978),\n",
    "            (334, 978),\n",
    "            (334, 978),\n",
    "            (334, 978),\n",
    "            (409, 992), \n",
    "            (399, 987), \n",
    "            (395, 985), \n",
    "            (434, 997), \n",
    "            (440, 993)]\n",
    "c_list = ['c', 'orangered', 'g',\n",
    "          'r', 'm', 'y','tab:orange',\n",
    "          'tab:pink', 'limegreen', 'maroon', \n",
    "          'dodgerblue', 'gold', 'peru','deeppink',\n",
    "          'gold','peru','dodgerblue','c','m']"
   ]
  },
  {
   "cell_type": "code",
   "execution_count": 49,
   "id": "broadband-contractor",
   "metadata": {},
   "outputs": [],
   "source": [
    "u = du.vozocrtx.isel(x=slice(200,1400),y=slice(650,1800))\n",
    "u = u.rename({'depthu' : 'depth'})\n",
    "v = dv.vomecrty.isel(x=slice(200,1400),y=slice(650,1800))\n",
    "v = v.rename({'depthv' : 'depth'})\n",
    "\n",
    "bathym = dzz.mbathy.isel(x=slice(200,1400),y=slice(650,1800)).squeeze(axis=0)\n",
    "\n",
    "zonal = scalar.glamt.isel(x=slice(200,1399),y=slice(650,1799)).squeeze(axis=0)\n",
    "merd = scalar.gphit.isel(x=slice(200,1399),y=slice(650,1799)).squeeze(axis=0)"
   ]
  },
  {
   "cell_type": "code",
   "execution_count": 28,
   "id": "every-jurisdiction",
   "metadata": {},
   "outputs": [],
   "source": [
    "d_hbx = bathym.isel(y=slice(0,1149)).diff(dim='x')\n",
    "d_hby = bathym.isel(x=slice(0,1199)).diff(dim='y')\n",
    "\n",
    "len_bat = np.sqrt((d_hbx/zonal)**2 + (d_hby/merd)**2)\n",
    "\n",
    "d_hbxg = d_hbx.rolling(x = 10,).mean()\n",
    "d_hbyg = d_hby.rolling(y = 10,).mean()"
   ]
  },
  {
   "cell_type": "code",
   "execution_count": 43,
   "id": "behind-franchise",
   "metadata": {},
   "outputs": [],
   "source": [
    "def PCz_20(x,y):\n",
    "    'Finding the level the given location dosent have values for anymore'\n",
    "\n",
    "    d = bathym.isel(x=x, y=y).values\n",
    "\n",
    "    dypu = u.isel(x=x, y=y, depth = slice(15,d-1)) # -1 pga d=0 og vi vil en opp der vi har bunnhastigheter\n",
    "    dypv = v.isel(x=x, y=y, depth = slice(15,d-1))\n",
    "    \n",
    "    covu = np.cov(dypu.T, bias=True) # uten .T ble den en 73x73 matrise \n",
    "    values_u, vectors_u = np.linalg.eig(covu)\n",
    "    order_u = values_u.argsort()[::-1]\n",
    "    values_u, vectors_u = values_u[order_u], vectors_u[:, order_u]\n",
    "    \n",
    "    covv = np.cov(dypv.T, bias=True) # uten .T ble den en 73x73 matrise \n",
    "    values_v, vectors_v = np.linalg.eig(covv)\n",
    "    order_v = values_v.argsort()[::-1]\n",
    "    values_v, vectors_v = values_v[order_v], vectors_v[:, order_v]\n",
    "    \n",
    "    PC1u = (np.sqrt(values_u[0])*vectors_u[:,0])\n",
    "    PC1v = (np.sqrt(values_v[0])*vectors_v[:,0])\n",
    "    PC2u = (np.sqrt(values_u[1])*vectors_u[:,1])\n",
    "    PC2v = (np.sqrt(values_v[1])*vectors_v[:,1])\n",
    "    \n",
    "    return  PC1u, PC1v, PC2u, PC2v, dypu, dypv"
   ]
  },
  {
   "cell_type": "code",
   "execution_count": 44,
   "id": "linear-diana",
   "metadata": {},
   "outputs": [],
   "source": [
    "def PCz(x,y):\n",
    "    'Finding the level the given location dosent have values for anymore'\n",
    "\n",
    "    d = bathym.isel(x=x, y=y).values\n",
    "\n",
    "    dypu = u.isel(x=x, y=y, depth = slice(0,d-1)) # -1 pga d=0 og vi vil en opp der vi har bunnhastigheter\n",
    "    dypv = v.isel(x=x, y=y, depth = slice(0,d-1))\n",
    "    \n",
    "    covu = np.cov(dypu.T, bias=True) # uten .T ble den en 73x73 matrise \n",
    "    values_u, vectors_u = np.linalg.eig(covu)\n",
    "    order_u = values_u.argsort()[::-1]\n",
    "    values_u, vectors_u = values_u[order_u], vectors_u[:, order_u]\n",
    "    \n",
    "    covv = np.cov(dypv.T, bias=True) # uten .T ble den en 73x73 matrise \n",
    "    values_v, vectors_v = np.linalg.eig(covv)\n",
    "    order_v = values_v.argsort()[::-1]\n",
    "    values_v, vectors_v = values_v[order_v], vectors_v[:, order_v]\n",
    "    \n",
    "    PC1u = (np.sqrt(values_u[0])*vectors_u[:,0])\n",
    "    PC1v = (np.sqrt(values_v[0])*vectors_v[:,0])\n",
    "    PC2u = (np.sqrt(values_u[1])*vectors_u[:,1])\n",
    "    PC2v = (np.sqrt(values_v[1])*vectors_v[:,1])\n",
    "    \n",
    "    return  PC1u, PC1v, PC2u, PC2v, dypu, dypv"
   ]
  },
  {
   "cell_type": "code",
   "execution_count": 34,
   "id": "rotary-preparation",
   "metadata": {},
   "outputs": [],
   "source": [
    "'Making a function for the vertical PC'\n",
    "def PCz_op(x,y):\n",
    "    up = u.isel(y=y, x=x)\n",
    "    vp = v.isel(y=y, x=x)\n",
    "\n",
    "    zonalp = zonal.isel(y=y, x=x)\n",
    "    merdp = merd.isel(y=y, x=x)\n",
    "\n",
    "    d_hbx_p = d_hbxg.isel(y=y, x=x)\n",
    "    d_hby_p = d_hbyg.isel(y=y, x=x)\n",
    "    \n",
    "    # lag lengde scalar av bathym og dele u_o og u_p på \n",
    "\n",
    "    vel_ort = ((up*(d_hbx_p/zonalp) + vp*(d_hby_p/merdp))/np.sqrt((d_hbx_p/zonalp)**2 + (d_hby_p/merdp)**2)) \n",
    "    vel_par = ((up*(d_hby_p/merdp)  - vp*(d_hbx_p/zonalp))/np.sqrt((d_hbx_p/zonalp)**2 + (d_hby_p/merdp)**2))\n",
    "    \n",
    "    d_p = bathym.isel(y=y, x=x).values\n",
    "    dyp_o = vel_ort.isel(depth = slice(0,int(d_p)-1)) # -1 pga d=0 og vi vil en opp der vi har bunnhastigheter\n",
    "    dyp_p = vel_par.isel(depth = slice(0,int(d_p)-1))\n",
    "\n",
    "    cov_o = np.cov(dyp_o.T, bias=True) # uten .T ble den en 73x73 matrise \n",
    "    cov_p = np.cov(dyp_p.T, bias=True)\n",
    "    \n",
    "    values_o, vectors_o = np.linalg.eig(cov_o)\n",
    "    order_o = values_o.argsort()[::-1]\n",
    "    values_o, vectors_o = values_o[order_o], vectors_o[:, order_o]\n",
    "    values_p, vectors_p = np.linalg.eig(cov_p)\n",
    "    order_p = values_p.argsort()[::-1]\n",
    "    values_p, vectors_p = values_p[order_p], vectors_p[:, order_p]\n",
    "    \n",
    "    PC1p = (np.sqrt(values_p[0])*vectors_p[:,0])\n",
    "    PC1o = (np.sqrt(values_o[0])*vectors_o[:,0])\n",
    "    PC2p = (np.sqrt(values_p[1])*vectors_p[:,1])\n",
    "    PC2o = (np.sqrt(values_o[1])*vectors_o[:,1])\n",
    "    \n",
    "    return PC1p, PC1o, PC2p, PC2o, dyp_p, dyp_o"
   ]
  },
  {
   "cell_type": "markdown",
   "id": "coordinated-treaty",
   "metadata": {},
   "source": [
    "## Barents Sea"
   ]
  },
  {
   "cell_type": "code",
   "execution_count": null,
   "id": "after-fountain",
   "metadata": {},
   "outputs": [
    {
     "name": "stdout",
     "output_type": "stream",
     "text": [
      "836 440\n"
     ]
    }
   ],
   "source": [
    "warnings.simplefilter(\"ignore\")\n",
    "fig, axes = plt.subplots(1,3,figsize = (30,13))\n",
    "plt.suptitle('PC1 & PC2 from model data, Barents Sea', \n",
    "             horizontalalignment='center',\n",
    "            fontsize=24)\n",
    "bar = [(836, 440),(838, 440),(836, 439)]\n",
    "axes[0].set_ylabel('Depth [m]', fontsize=14)\n",
    "\n",
    "for axs, p in zip(axes.flat, range(len(bar))):\n",
    "    pp = moor_l[p]\n",
    "    print(pp[0], pp[1])    \n",
    "    PC1u, PC1v, PC2u, PC2v, dypu, dypv = PCz(pp[0],pp[1])\n",
    "        \n",
    "    axs.plot(PC1u,dypu.depth, 'b', label = 'U-Velocity, PC1')\n",
    "    axs.plot(PC1v,dypv.depth, 'deepskyblue', label = 'V-Velocity, PC1')\n",
    "    axs.plot(PC2u,dypu.depth, 'b', linestyle = '--', label = 'U-Velocity, PC2')\n",
    "    axs.plot(PC2v,dypv.depth, 'deepskyblue', linestyle = '--', label = 'V-Velocity, PC2')\n",
    "    axs.axvline(0, color='k', linestyle = '--')\n",
    "    axs.legend(frameon=False, fontsize=12, loc=\"upper left\") \n",
    "    axs.invert_yaxis()\n",
    "    axs.set_xlabel('Current speed [cm/s]', fontsize=14)\n"
   ]
  },
  {
   "cell_type": "code",
   "execution_count": null,
   "id": "sized-payment",
   "metadata": {},
   "outputs": [],
   "source": [
    "warnings.simplefilter(\"ignore\")\n",
    "fig, axes = plt.subplots(1,3,figsize = (30,13))\n",
    "plt.suptitle('PC1 from model data, Barents Sea, oriented parallel & orthogonal to the topography', \n",
    "             horizontalalignment='center',\n",
    "            fontsize=24)\n",
    "bar = [(836, 440),(838, 440),(836, 439)]\n",
    "axes[0].set_ylabel('Depth [m]', fontsize=14)\n",
    "\n",
    "for axs, p in zip(axes.flat, range(len(bar))):\n",
    "    pp = moor_l[p]\n",
    "    print(pp[0], pp[1])    \n",
    "    PC1p, PC2o, PC2p, PC2o, dypp, dypo = PCz(pp[0],pp[1])\n",
    "        \n",
    "    axs.plot(PC1p,dypp.depth, 'navy', label = 'Velocity parallel')\n",
    "    axs.plot(PC1o,dypo.depth, 'cornflowerblue', label = 'Velocity orthogonal')\n",
    "    axs.plot(PC2p,dypp.depth, 'navy', linestyle = '--', label = 'Velocity parallel')\n",
    "    axs.plot(PC2o,dypo.depth, 'cornflowerblue', linestyle = '--', label = 'Velocity orthogonal')\n",
    "    axs.axvline(0, color='k', linestyle = '--')\n",
    "    axs.legend(frameon=False, fontsize=12, loc=\"upper left\") \n",
    "    axs.invert_yaxis()\n",
    "    axs.set_xlabel('Current speed [cm/s]', fontsize=14)"
   ]
  },
  {
   "cell_type": "markdown",
   "id": "related-genius",
   "metadata": {},
   "source": [
    "## Lofoten Basin "
   ]
  },
  {
   "cell_type": "code",
   "execution_count": null,
   "id": "forced-questionnaire",
   "metadata": {},
   "outputs": [],
   "source": [
    "lof = [(915, 157),(935, 143),(938, 144),(934, 141)]"
   ]
  },
  {
   "cell_type": "code",
   "execution_count": null,
   "id": "adopted-chrome",
   "metadata": {},
   "outputs": [],
   "source": [
    "warnings.simplefilter(\"ignore\")\n",
    "fig, axes = plt.subplots(1,3,figsize = (30,13))\n",
    "plt.suptitle('PC1 & PC2 from model data, Lofoten Basin', \n",
    "             horizontalalignment='center',\n",
    "            fontsize=24)\n",
    "axes[0].set_ylabel('Depth [m]', fontsize=14)\n",
    "\n",
    "for axs, p in zip(axes.flat, range(len(lof))):\n",
    "    pp = moor_l[p]\n",
    "    print(pp[0], pp[1])    \n",
    "    PC1u, PC1v, PC2u, PC2v, dypu, dypv = PCz(pp[0],pp[1])\n",
    "        \n",
    "    axs.plot(PC1u,dypu.depth, 'b', label = 'U-Velocity, PC1')\n",
    "    axs.plot(PC1v,dypv.depth, 'deepskyblue', label = 'V-Velocity, PC1')\n",
    "    axs.plot(PC2u,dypu.depth, 'b', linestyle = '--', label = 'U-Velocity, PC2')\n",
    "    axs.plot(PC2v,dypv.depth, 'deepskyblue', linestyle = '--', label = 'V-Velocity, PC2')\n",
    "    axs.axvline(0, color='k', linestyle = '--')\n",
    "    axs.legend(frameon=False, fontsize=12, loc=\"upper left\") \n",
    "    axs.invert_yaxis()\n",
    "    axs.set_xlabel('Current speed [cm/s]', fontsize=14)\n"
   ]
  },
  {
   "cell_type": "code",
   "execution_count": null,
   "id": "laden-federal",
   "metadata": {},
   "outputs": [],
   "source": [
    "warnings.simplefilter(\"ignore\")\n",
    "fig, axes = plt.subplots(1,3,figsize = (30,13))\n",
    "plt.suptitle('PC1 from model data, Lofoten Basin, oriented parallel & orthogonal to the topography', \n",
    "             horizontalalignment='center',\n",
    "            fontsize=24)\n",
    "bar = [(836, 440),(838, 440),(836, 439)]\n",
    "axes[0].set_ylabel('Depth [m]', fontsize=14)\n",
    "\n",
    "for axs, p in zip(axes.flat, range(len(bar))):\n",
    "    pp = moor_l[p]\n",
    "    print(pp[0], pp[1])    \n",
    "    PC1p, PC2o, PC2p, PC2o, dypp, dypo = PCz(pp[0],pp[1])\n",
    "        \n",
    "    axs.plot(PC1p,dypp.depth, 'navy', label = 'Velocity parallel')\n",
    "    axs.plot(PC1o,dypo.depth, 'cornflowerblue', label = 'Velocity orthogonal')\n",
    "    axs.plot(PC2p,dypp.depth, 'navy', linestyle = '--', label = 'Velocity parallel')\n",
    "    axs.plot(PC2o,dypo.depth, 'cornflowerblue', linestyle = '--', label = 'Velocity orthogonal')\n",
    "    axs.axvline(0, color='k', linestyle = '--')\n",
    "    axs.legend(frameon=False, fontsize=12, loc=\"upper left\") \n",
    "    axs.invert_yaxis()\n",
    "    axs.set_xlabel('Current speed [cm/s]', fontsize=14)"
   ]
  },
  {
   "cell_type": "markdown",
   "id": "bronze-folder",
   "metadata": {},
   "source": [
    "## Yermark shelf"
   ]
  },
  {
   "cell_type": "code",
   "execution_count": null,
   "id": "fundamental-strand",
   "metadata": {},
   "outputs": [],
   "source": [
    "yer = [(774, 344),(766, 358),(773, 346)]"
   ]
  },
  {
   "cell_type": "code",
   "execution_count": null,
   "id": "intimate-plate",
   "metadata": {},
   "outputs": [],
   "source": [
    "warnings.simplefilter(\"ignore\")\n",
    "fig, axes = plt.subplots(1,3,figsize = (30,13))\n",
    "plt.suptitle('PC1 & PC2 from model data, Yermark Shelf', \n",
    "             horizontalalignment='center',\n",
    "            fontsize=24)\n",
    "axes[0].set_ylabel('Depth [m]', fontsize=14)\n",
    "\n",
    "for axs, p in zip(axes.flat, range(len(yer))):\n",
    "    pp = moor_l[p]\n",
    "    print(pp[0], pp[1])    \n",
    "    PC1u, PC1v, PC2u, PC2v, dypu, dypv = PCz(pp[0],pp[1])\n",
    "        \n",
    "    axs.plot(PC1u,dypu.depth, 'b', label = 'U-Velocity, PC1')\n",
    "    axs.plot(PC1v,dypv.depth, 'deepskyblue', label = 'V-Velocity, PC1')\n",
    "    axs.plot(PC2u,dypu.depth, 'b', linestyle = '--', label = 'U-Velocity, PC2')\n",
    "    axs.plot(PC2v,dypv.depth, 'deepskyblue', linestyle = '--', label = 'V-Velocity, PC2')\n",
    "    axs.axvline(0, color='k', linestyle = '--')\n",
    "    axs.legend(frameon=False, fontsize=12, loc=\"upper left\") \n",
    "    axs.invert_yaxis()\n",
    "    axs.set_xlabel('Current speed [cm/s]', fontsize=14)\n"
   ]
  },
  {
   "cell_type": "code",
   "execution_count": null,
   "id": "miniature-password",
   "metadata": {},
   "outputs": [],
   "source": [
    "warnings.simplefilter(\"ignore\")\n",
    "fig, axes = plt.subplots(1,3,figsize = (30,13))\n",
    "plt.suptitle('PC1 from model data, Yermark Shelf, oriented parallel & orthogonal to the topography', \n",
    "             horizontalalignment='center',\n",
    "            fontsize=24)\n",
    "axes[0].set_ylabel('Depth [m]', fontsize=14)\n",
    "\n",
    "for axs, p in zip(axes.flat, range(len(yer))):\n",
    "    pp = moor_l[p]\n",
    "    print(pp[0], pp[1])    \n",
    "    PC1p, PC2o, PC2p, PC2o, dypp, dypo = PCz(pp[0],pp[1])\n",
    "        \n",
    "    axs.plot(PC1p,dypp.depth, 'navy', label = 'Velocity parallel')\n",
    "    axs.plot(PC1o,dypo.depth, 'cornflowerblue', label = 'Velocity orthogonal')\n",
    "    axs.plot(PC2p,dypp.depth, 'navy', linestyle = '--', label = 'Velocity parallel')\n",
    "    axs.plot(PC2o,dypo.depth, 'cornflowerblue', linestyle = '--', label = 'Velocity orthogonal')\n",
    "    axs.axvline(0, color='k', linestyle = '--')\n",
    "    axs.legend(frameon=False, fontsize=12, loc=\"upper left\") \n",
    "    axs.invert_yaxis()\n",
    "    axs.set_xlabel('Current speed [cm/s]', fontsize=14)"
   ]
  },
  {
   "cell_type": "markdown",
   "id": "suspended-david",
   "metadata": {},
   "source": [
    "## Beaufort Sea"
   ]
  },
  {
   "cell_type": "code",
   "execution_count": null,
   "id": "duplicate-constitution",
   "metadata": {},
   "outputs": [],
   "source": [
    "bea = [(334, 978), (334, 978), (334, 978), (334, 978)]"
   ]
  },
  {
   "cell_type": "code",
   "execution_count": null,
   "id": "three-burlington",
   "metadata": {},
   "outputs": [],
   "source": [
    "warnings.simplefilter(\"ignore\")\n",
    "fig, axes = plt.subplots(1,3,figsize = (30,13))\n",
    "plt.suptitle('PC1 & PC2 from model data, Beaufort Sea', \n",
    "             horizontalalignment='center',\n",
    "            fontsize=24)\n",
    "axes[0].set_ylabel('Depth [m]', fontsize=14)\n",
    "\n",
    "for axs, p in zip(axes.flat, range(len(bea))):\n",
    "    pp = moor_l[p]\n",
    "    print(pp[0], pp[1])    \n",
    "    PC1u, PC1v, PC2u, PC2v, dypu, dypv = PCz(pp[0],pp[1])\n",
    "        \n",
    "    axs.plot(PC1u,dypu.depth, 'b', label = 'U-Velocity, PC1')\n",
    "    axs.plot(PC1v,dypv.depth, 'deepskyblue', label = 'V-Velocity, PC1')\n",
    "    axs.plot(PC2u,dypu.depth, 'b', linestyle = '--', label = 'U-Velocity, PC2')\n",
    "    axs.plot(PC2v,dypv.depth, 'deepskyblue', linestyle = '--', label = 'V-Velocity, PC2')\n",
    "    axs.axvline(0, color='k', linestyle = '--')\n",
    "    axs.legend(frameon=False, fontsize=12, loc=\"upper left\") \n",
    "    axs.invert_yaxis()\n",
    "    axs.set_xlabel('Current speed [cm/s]', fontsize=14)\n"
   ]
  },
  {
   "cell_type": "code",
   "execution_count": null,
   "id": "reliable-coupon",
   "metadata": {},
   "outputs": [],
   "source": [
    "warnings.simplefilter(\"ignore\")\n",
    "fig, axes = plt.subplots(1,3,figsize = (30,13))\n",
    "plt.suptitle('PC1 from model data, Beaufort Sea, oriented parallel & orthogonal to the topography', \n",
    "             horizontalalignment='center',\n",
    "            fontsize=24)\n",
    "axes[0].set_ylabel('Depth [m]', fontsize=14)\n",
    "\n",
    "for axs, p in zip(axes.flat, range(len(bea))):\n",
    "    pp = moor_l[p]\n",
    "    print(pp[0], pp[1])    \n",
    "    PC1p, PC2o, PC2p, PC2o, dypp, dypo = PCz(pp[0],pp[1])\n",
    "        \n",
    "    axs.plot(PC1p,dypp.depth, 'navy', label = 'Velocity parallel')\n",
    "    axs.plot(PC1o,dypo.depth, 'cornflowerblue', label = 'Velocity orthogonal')\n",
    "    axs.plot(PC2p,dypp.depth, 'navy', linestyle = '--', label = 'Velocity parallel')\n",
    "    axs.plot(PC2o,dypo.depth, 'cornflowerblue', linestyle = '--', label = 'Velocity orthogonal')\n",
    "    axs.axvline(0, color='k', linestyle = '--')\n",
    "    axs.legend(frameon=False, fontsize=12, loc=\"upper left\") \n",
    "    axs.invert_yaxis()\n",
    "    axs.set_xlabel('Current speed [cm/s]', fontsize=14)"
   ]
  },
  {
   "cell_type": "markdown",
   "id": "excess-mongolia",
   "metadata": {},
   "source": [
    "## Chuckchi Sea"
   ]
  },
  {
   "cell_type": "code",
   "execution_count": null,
   "id": "indoor-attribute",
   "metadata": {},
   "outputs": [],
   "source": [
    "chi = [(409, 992), (399, 987), (395, 985), (434, 997), (440, 993)]"
   ]
  },
  {
   "cell_type": "code",
   "execution_count": null,
   "id": "treated-wellington",
   "metadata": {},
   "outputs": [],
   "source": [
    "warnings.simplefilter(\"ignore\")\n",
    "fig, axes = plt.subplots(1,3,figsize = (30,13))\n",
    "plt.suptitle('PC1 & PC2 from model data, Chuckchi Sea', \n",
    "             horizontalalignment='center',\n",
    "            fontsize=24)\n",
    "axes[0].set_ylabel('Depth [m]', fontsize=14)\n",
    "\n",
    "for axs, p in zip(axes.flat, range(len(chi))):\n",
    "    pp = moor_l[p]\n",
    "    print(pp[0], pp[1])    \n",
    "    PC1u, PC1v, PC2u, PC2v, dypu, dypv = PCz(pp[0],pp[1])\n",
    "        \n",
    "    axs.plot(PC1u,dypu.depth, 'b', label = 'U-Velocity, PC1')\n",
    "    axs.plot(PC1v,dypv.depth, 'deepskyblue', label = 'V-Velocity, PC1')\n",
    "    axs.plot(PC2u,dypu.depth, 'b', linestyle = '--', label = 'U-Velocity, PC2')\n",
    "    axs.plot(PC2v,dypv.depth, 'deepskyblue', linestyle = '--', label = 'V-Velocity, PC2')\n",
    "    axs.axvline(0, color='k', linestyle = '--')\n",
    "    axs.legend(frameon=False, fontsize=12, loc=\"upper left\") \n",
    "    axs.invert_yaxis()\n",
    "    axs.set_xlabel('Current speed [cm/s]', fontsize=14)\n"
   ]
  },
  {
   "cell_type": "code",
   "execution_count": null,
   "id": "overall-feeling",
   "metadata": {},
   "outputs": [],
   "source": [
    "warnings.simplefilter(\"ignore\")\n",
    "fig, axes = plt.subplots(1,3,figsize = (30,13))\n",
    "plt.suptitle('PC1 from model data, Chukchi Sea, oriented parallel & orthogonal to the topography', \n",
    "             horizontalalignment='center',\n",
    "            fontsize=24)\n",
    "axes[0].set_ylabel('Depth [m]', fontsize=14)\n",
    "\n",
    "for axs, p in zip(axes.flat, range(len(chi))):\n",
    "    pp = moor_l[p]\n",
    "    print(pp[0], pp[1])    \n",
    "    PC1p, PC2o, PC2p, PC2o, dypp, dypo = PCz(pp[0],pp[1])\n",
    "        \n",
    "    axs.plot(PC1p,dypp.depth, 'navy', label = 'Velocity parallel')\n",
    "    axs.plot(PC1o,dypo.depth, 'cornflowerblue', label = 'Velocity orthogonal')\n",
    "    axs.plot(PC2p,dypp.depth, 'navy', linestyle = '--', label = 'Velocity parallel')\n",
    "    axs.plot(PC2o,dypo.depth, 'cornflowerblue', linestyle = '--', label = 'Velocity orthogonal')\n",
    "    axs.axvline(0, color='k', linestyle = '--')\n",
    "    axs.legend(frameon=False, fontsize=12, loc=\"upper left\") \n",
    "    axs.invert_yaxis()\n",
    "    axs.set_xlabel('Current speed [cm/s]', fontsize=14)"
   ]
  }
 ],
 "metadata": {
  "kernelspec": {
   "display_name": "Python 3",
   "language": "python",
   "name": "python3"
  },
  "language_info": {
   "codemirror_mode": {
    "name": "ipython",
    "version": 3
   },
   "file_extension": ".py",
   "mimetype": "text/x-python",
   "name": "python",
   "nbconvert_exporter": "python",
   "pygments_lexer": "ipython3",
   "version": "3.8.8"
  }
 },
 "nbformat": 4,
 "nbformat_minor": 5
}
