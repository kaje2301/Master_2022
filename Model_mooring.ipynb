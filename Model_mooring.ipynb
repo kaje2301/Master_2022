{
 "cells": [
  {
   "cell_type": "code",
   "execution_count": null,
   "id": "assumed-volume",
   "metadata": {},
   "outputs": [],
   "source": [
    "# importing tools \n",
    "import s3fs\n",
    "import xarray as xr\n",
    "import numpy as np \n",
    "import matplotlib.pyplot as plt \n",
    "#for removing warnings\n",
    "import warnings"
   ]
  },
  {
   "cell_type": "code",
   "execution_count": null,
   "id": "extensive-relay",
   "metadata": {},
   "outputs": [],
   "source": [
    "# open the data with s3fs from the databucket \n",
    "fsg = s3fs.S3FileSystem(anon=False,\n",
    "      client_kwargs={\n",
    "         'endpoint_url': 'https://karen.uiogeo-apps.sigma2.no'\n",
    "      })\n",
    "data_path1 = 's3://data/CREG12.L75-REF08_mesh_zgr.zarr'\n",
    "data_path2 = 's3://velocity-u.zarr'\n",
    "data_path3 = 's3://velocity-v.zarr'\n",
    "\n",
    "remote_files1 = fsg.glob(data_path1)\n",
    "remote_files2 = fsg.glob(data_path2)\n",
    "remote_files3 = fsg.glob(data_path3)\n",
    "\n",
    "store1 = s3fs.S3Map(root=data_path1, s3=fsg, check=False)\n",
    "store2 = s3fs.S3Map(root=data_path2, s3=fsg, check=False)\n",
    "store3 = s3fs.S3Map(root=data_path3, s3=fsg, check=False)\n",
    "\n",
    "dzz = xr.open_zarr(store=store1, consolidated=True)\n",
    "du = xr.open_zarr(store=store2, consolidated=True)\n",
    "dv = xr.open_zarr(store=store3, consolidated=True)"
   ]
  },
  {
   "cell_type": "code",
   "execution_count": null,
   "id": "loose-clark",
   "metadata": {},
   "outputs": [],
   "source": [
    "def open_s3fs(path):\n",
    "    # open the data with s3fs from the databucket \n",
    "    fsg = s3fs.S3FileSystem(anon=False,\n",
    "      client_kwargs={\n",
    "         'endpoint_url': 'https://karen.uiogeo-apps.sigma2.no'\n",
    "      })\n",
    "    data_path = f's3://data/{path}'\n",
    "    remote_files = fsg.glob(data_path)\n",
    "    fileset = [fsg.open(file) for file in remote_files]\n",
    "    #open the dataset \n",
    "    dset = xr.open_mfdataset(fileset, \n",
    "                             #combine='by_coords',\n",
    "                             compat='override')\n",
    "    return dset"
   ]
  },
  {
   "cell_type": "code",
   "execution_count": null,
   "id": "encouraging-submission",
   "metadata": {},
   "outputs": [],
   "source": [
    "scalar = open_s3fs('CREG12.L75-REF08_mesh_hgr.nc')"
   ]
  },
  {
   "cell_type": "code",
   "execution_count": null,
   "id": "historical-vacuum",
   "metadata": {},
   "outputs": [],
   "source": [
    "p_list = [(31.13247,81.24202),\n",
    "          (31.13533,81.24255),\n",
    "          (31.14506,81.24587)\n",
    "          ,(011.1189, 69.5289),\n",
    "          (013.16845,68.58759),\n",
    "          (013.19866,68.56109),\n",
    "          (012.45082,68.50128),\n",
    "          (5.57541,79.37209),\n",
    "          (5.48733,80.03876),\n",
    "          (5.56333,79.44093),\n",
    "          (-160.4923,72.121),\n",
    "          (-159.1216,72.1628),\n",
    "          (-158.5512,72.1815),\n",
    "          (-163.5346,72.2808),\n",
    "          (-164.0992,72.5252)]\n",
    "moor_l = [(836, 440),\n",
    "            (838, 440),\n",
    "            (836, 439),\n",
    "            (915, 157),\n",
    "            (935, 143),\n",
    "            (938, 144),\n",
    "            (934, 141),\n",
    "            (774, 344),\n",
    "            (766, 358),\n",
    "            (773, 346),\n",
    "            (334, 978),\n",
    "            (334, 978),\n",
    "            (334, 978),\n",
    "            (334, 978),\n",
    "            (409, 992), \n",
    "            (399, 987), \n",
    "            (395, 985), \n",
    "            (434, 997), \n",
    "            (440, 993)]\n",
    "c_list = ['c', 'orangered', 'g',\n",
    "          'r', 'm', 'y','tab:orange',\n",
    "          'tab:pink', 'limegreen', 'maroon', \n",
    "          'dodgerblue', 'gold', 'peru','deeppink',\n",
    "          'gold','peru','dodgerblue','c','m']"
   ]
  },
  {
   "cell_type": "code",
   "execution_count": null,
   "id": "ignored-computer",
   "metadata": {},
   "outputs": [],
   "source": [
    "u = du.vozocrtx.isel(x=slice(200,1400),y=slice(650,1800))\n",
    "v = dv.vomecrty.isel(x=slice(200,1400),y=slice(650,1800))\n",
    "\n",
    "bathym = dzz.mbathy.isel(x=slice(200,1400),y=slice(650,1800)).squeeze(axis=0)\n",
    "\n",
    "zonal_ = scalar.glamt.isel(x=slice(200,1399),y=slice(650,1799)).squeeze(axis=0)\n",
    "merd_ = scalar.gphit.isel(x=slice(200,1399),y=slice(650,1799)).squeeze(axis=0)"
   ]
  },
  {
   "cell_type": "code",
   "execution_count": null,
   "id": "reserved-medium",
   "metadata": {},
   "outputs": [],
   "source": []
  }
 ],
 "metadata": {
  "kernelspec": {
   "display_name": "Python 3",
   "language": "python",
   "name": "python3"
  },
  "language_info": {
   "codemirror_mode": {
    "name": "ipython",
    "version": 3
   },
   "file_extension": ".py",
   "mimetype": "text/x-python",
   "name": "python",
   "nbconvert_exporter": "python",
   "pygments_lexer": "ipython3",
   "version": "3.8.8"
  }
 },
 "nbformat": 4,
 "nbformat_minor": 5
}
