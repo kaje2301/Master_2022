{
 "cells": [
  {
   "cell_type": "code",
   "execution_count": 9,
   "id": "surprised-mirror",
   "metadata": {},
   "outputs": [],
   "source": [
    "# importing tools \n",
    "import s3fs\n",
    "import xarray as xr\n",
    "import numpy as np \n",
    "import matplotlib.pyplot as plt \n",
    "import math"
   ]
  },
  {
   "cell_type": "code",
   "execution_count": 2,
   "id": "relative-bangkok",
   "metadata": {},
   "outputs": [],
   "source": [
    "fsg = s3fs.S3FileSystem(anon=False,\n",
    "      client_kwargs={\n",
    "         'endpoint_url': 'https://karen.uiogeo-apps.sigma2.no'\n",
    "      })"
   ]
  },
  {
   "cell_type": "code",
   "execution_count": 10,
   "id": "executive-manual",
   "metadata": {},
   "outputs": [
    {
     "data": {
      "text/plain": [
       "['data/CREG12.L75-REF08_mesh_zgr.nc',\n",
       " 'data/bathym.nc',\n",
       " 'data/botvel.nc',\n",
       " 'data/u_names.nc',\n",
       " 'data/u_tot.nc',\n",
       " 'data/ubar.nc',\n",
       " 'data/uvar.nc',\n",
       " 'data/uvar_vvar',\n",
       " 'data/v_names.nc',\n",
       " 'data/v_tot.nc',\n",
       " 'data/vbar.nc']"
      ]
     },
     "execution_count": 10,
     "metadata": {},
     "output_type": "execute_result"
    }
   ],
   "source": [
    "fsg.ls('data')"
   ]
  },
  {
   "cell_type": "code",
   "execution_count": 11,
   "id": "aboriginal-conspiracy",
   "metadata": {},
   "outputs": [],
   "source": [
    "data_path =  's3://data/uvar.nc', 's3://data/vvar.nc', 's3://data/uv.nc', 's3://data/bathym.nc', 's3://data/.nc'"
   ]
  },
  {
   "cell_type": "code",
   "execution_count": 12,
   "id": "welcome-negative",
   "metadata": {},
   "outputs": [
    {
     "data": {
      "text/plain": [
       "['data/CREG12.L75-REF08_mesh_zgr.nc',\n",
       " 'data/bathym.nc',\n",
       " 'data/botvel.nc',\n",
       " 'data/u_names.nc',\n",
       " 'data/u_tot.nc',\n",
       " 'data/ubar.nc',\n",
       " 'data/uvar.nc',\n",
       " 'data/uvar_vvar',\n",
       " 'data/v_names.nc',\n",
       " 'data/v_tot.nc',\n",
       " 'data/vbar.nc']"
      ]
     },
     "execution_count": 12,
     "metadata": {},
     "output_type": "execute_result"
    }
   ],
   "source": [
    "remote_files = fsg.glob(data_path)\n",
    "remote_files"
   ]
  },
  {
   "cell_type": "code",
   "execution_count": 7,
   "id": "recovered-indonesian",
   "metadata": {},
   "outputs": [],
   "source": [
    "fileset = [fsg.open(file) for file in remote_files]"
   ]
  },
  {
   "cell_type": "code",
   "execution_count": null,
   "id": "fabulous-difficulty",
   "metadata": {},
   "outputs": [],
   "source": [
    "uvar = xr.open_mfdataset(filedir + 'uvar.nc')\n",
    "vvar = xr.open_mfdataset(filedir + 'vvar.nc')\n",
    "uv = xr.open_mfdataset(filedir + 'uv.nc')\n",
    "uv = uv.rename({'__xarray_dataarray_variable__' : 'vel'})\n",
    "bat = xr.open_mfdataset(filedir + '/CREG12.L75.script/bathym.nc')\n",
    "dyp = xr.open_mfdataset(filedir + 'depth.nc')\n"
   ]
  }
 ],
 "metadata": {
  "kernelspec": {
   "display_name": "Python 3",
   "language": "python",
   "name": "python3"
  },
  "language_info": {
   "codemirror_mode": {
    "name": "ipython",
    "version": 3
   },
   "file_extension": ".py",
   "mimetype": "text/x-python",
   "name": "python",
   "nbconvert_exporter": "python",
   "pygments_lexer": "ipython3",
   "version": "3.8.8"
  }
 },
 "nbformat": 4,
 "nbformat_minor": 5
}
