{
 "cells": [
  {
   "cell_type": "code",
   "execution_count": null,
   "id": "affected-burst",
   "metadata": {},
   "outputs": [],
   "source": [
    "import s3fs\n",
    "import xarray as xr \n",
    "import numpy as np \n",
    "import matplotlib.pyplot as plt \n",
    " "
   ]
  },
  {
   "cell_type": "code",
   "execution_count": null,
   "id": "declared-dispute",
   "metadata": {},
   "outputs": [],
   "source": [
    "fsg = s3fs.S3FileSystem(anon=False,\n",
    "      client_kwargs={\n",
    "         'endpoint_url': 'https://karen.uiogeo-apps.sigma2.no'\n",
    "      })"
   ]
  },
  {
   "cell_type": "code",
   "execution_count": null,
   "id": "silent-genre",
   "metadata": {},
   "outputs": [],
   "source": [
    "fgs.ls('data')"
   ]
  },
  {
   "cell_type": "code",
   "execution_count": null,
   "id": "fifteen-fellowship",
   "metadata": {},
   "outputs": [],
   "source": [
    "data_path = 's3://data/*.nc'"
   ]
  },
  {
   "cell_type": "code",
   "execution_count": null,
   "id": "absolute-consideration",
   "metadata": {},
   "outputs": [],
   "source": [
    "remote_files = fsg.glob(data_path)\n",
    "remote_files"
   ]
  },
  {
   "cell_type": "code",
   "execution_count": null,
   "id": "moral-cloud",
   "metadata": {},
   "outputs": [],
   "source": [
    "fileset = [fsg.open(file) for file in remote_files]\n",
    "#combine all datasets on coords\n",
    "dset = xr.open_mfdataset(fileset, combine='by_coords')"
   ]
  },
  {
   "cell_type": "code",
   "execution_count": null,
   "id": "dynamic-fight",
   "metadata": {},
   "outputs": [],
   "source": [
    "# files needed \n",
    "v = xr.open_mfdataset(filedir + 'vbar.nc')\n",
    "u = xr.open_mfdataset(filedir + 'ubar.nc')\n",
    "bat = xr.open_mfdataset(filedir + '/CREG12.L75.script/bathym.nc')\n",
    "dyp = xr.open_mfdataset(filedir + 'depth.nc')\n",
    "cmap_r = plt.get_cmap(\"magma_r\")"
   ]
  },
  {
   "cell_type": "code",
   "execution_count": null,
   "id": "suburban-jaguar",
   "metadata": {},
   "outputs": [],
   "source": [
    "# Velocity data \n",
    "u = u*73\n",
    "v = v*73\n",
    "vel = (u.vozocrtx**2 + v.vomecrty**2)**0.5"
   ]
  },
  {
   "cell_type": "code",
   "execution_count": null,
   "id": "opponent-lending",
   "metadata": {},
   "outputs": [],
   "source": [
    "# Smoothening Velocity data\n",
    "us = u.rolling(x=10).mean()\n",
    "vs = v.rolling(y=10).mean()\n",
    "vels = (us.vozocrtx**2 + vs.vomecrty**2)**0.5\n"
   ]
  },
  {
   "cell_type": "code",
   "execution_count": null,
   "id": "swiss-mentor",
   "metadata": {},
   "outputs": [],
   "source": [
    "# Quiver\n",
    "\n",
    "c = 15\n",
    "N = 100\n",
    "\n",
    "x = np.linspace(0, 1801, 1801)\n",
    "dx = 20 \n",
    "x.shape\n",
    "\n",
    "y = np.linspace(0, 1580, 1580)\n",
    "dy = 20\n",
    "y.shape\n",
    "\n",
    "X, Y = np.meshgrid(x, y)\n",
    "print(X.shape)\n",
    "print(us.vozocrtx.shape)\n"
   ]
  },
  {
   "cell_type": "code",
   "execution_count": null,
   "id": "everyday-object",
   "metadata": {},
   "outputs": [],
   "source": []
  }
 ],
 "metadata": {
  "kernelspec": {
   "display_name": "Python 3",
   "language": "python",
   "name": "python3"
  },
  "language_info": {
   "codemirror_mode": {
    "name": "ipython",
    "version": 3
   },
   "file_extension": ".py",
   "mimetype": "text/x-python",
   "name": "python",
   "nbconvert_exporter": "python",
   "pygments_lexer": "ipython3",
   "version": "3.8.8"
  }
 },
 "nbformat": 4,
 "nbformat_minor": 5
}
