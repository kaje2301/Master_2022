{
 "cells": [
  {
   "cell_type": "code",
   "execution_count": null,
   "id": "wooden-heater",
   "metadata": {},
   "outputs": [],
   "source": [
    "import s3fs\n",
    "import xarray as xr \n",
    "import numpy as np \n",
    "import matplotlib.pyplot as plt \n",
    " "
   ]
  },
  {
   "cell_type": "code",
   "execution_count": null,
   "id": "embedded-combination",
   "metadata": {},
   "outputs": [],
   "source": [
    "fsg = s3fs.S3FileSystem(anon=False,\n",
    "      client_kwargs={\n",
    "         'endpoint_url': 'https://karen.uiogeo-apps.sigma2.no'\n",
    "      })"
   ]
  },
  {
   "cell_type": "code",
   "execution_count": null,
   "id": "reserved-lightning",
   "metadata": {},
   "outputs": [],
   "source": [
    "fgs.ls('data')"
   ]
  },
  {
   "cell_type": "code",
   "execution_count": null,
   "id": "strong-england",
   "metadata": {},
   "outputs": [],
   "source": [
    "data_path = 's3://data/*.nc'"
   ]
  },
  {
   "cell_type": "code",
   "execution_count": null,
   "id": "rocky-africa",
   "metadata": {},
   "outputs": [],
   "source": [
    "remote_files = fsg.glob(data_path)\n",
    "remote_files"
   ]
  },
  {
   "cell_type": "code",
   "execution_count": null,
   "id": "automotive-provision",
   "metadata": {},
   "outputs": [],
   "source": [
    "fileset = [fsg.open(file) for file in remote_files]\n",
    "#combine all datasets on coords\n",
    "dset = xr.open_mfdataset(fileset, combine='by_coords')"
   ]
  },
  {
   "cell_type": "code",
   "execution_count": null,
   "id": "simplified-merchant",
   "metadata": {},
   "outputs": [],
   "source": [
    "# files needed \n",
    "v = xr.open_mfdataset(filedir + 'vbar.nc')\n",
    "u = xr.open_mfdataset(filedir + 'ubar.nc')\n",
    "bat = xr.open_mfdataset(filedir + '/CREG12.L75.script/bathym.nc')\n",
    "dyp = xr.open_mfdataset(filedir + 'depth.nc')\n",
    "cmap_r = plt.get_cmap(\"magma_r\")"
   ]
  },
  {
   "cell_type": "code",
   "execution_count": null,
   "id": "compound-editor",
   "metadata": {},
   "outputs": [],
   "source": [
    "# Velocity data \n",
    "u = u*73\n",
    "v = v*73\n",
    "vel = (u.vozocrtx**2 + v.vomecrty**2)**0.5"
   ]
  },
  {
   "cell_type": "code",
   "execution_count": null,
   "id": "industrial-retro",
   "metadata": {},
   "outputs": [],
   "source": [
    "# Smoothening Velocity data\n",
    "us = u.rolling(x=10).mean()\n",
    "vs = v.rolling(y=10).mean()\n",
    "vels = (us.vozocrtx**2 + vs.vomecrty**2)**0.5\n"
   ]
  },
  {
   "cell_type": "code",
   "execution_count": null,
   "id": "egyptian-illness",
   "metadata": {},
   "outputs": [],
   "source": [
    "# Quiver\n",
    "\n",
    "c = 15\n",
    "N = 100\n",
    "\n",
    "x = np.linspace(0, 1801, 1801)\n",
    "dx = 20 \n",
    "x.shape\n",
    "\n",
    "y = np.linspace(0, 1580, 1580)\n",
    "dy = 20\n",
    "y.shape\n",
    "\n",
    "X, Y = np.meshgrid(x, y)\n",
    "print(X.shape)\n",
    "print(us.vozocrtx.shape)\n"
   ]
  },
  {
   "cell_type": "code",
   "execution_count": null,
   "id": "human-sierra",
   "metadata": {},
   "outputs": [],
   "source": [
    "# chooseing a level to look at \n",
    "level = 15\n",
    "depth = dyp.depth[level].values\n",
    "print(depth)\n",
    "\n",
    "y_grid = np.array(Y.T[800:1800:dx, 200:1400:dy])\n",
    "print(y_grid.shape)\n",
    "x_grid = np.array(X.T[800:1800:dx, 200:1400:dy])\n",
    "u_grid = np.array(us.vozocrtx[level,800:1800:dx, 200:1400:dy].values)#endring\n",
    "print(u_grid.shape)\n",
    "v_grid = np.array(vs.vomecrty[level, 800:1800:dx, 200:1400:dy].values)\n",
    "vel_grid = np.array(vels[level,800:1800:dx, 200:1400:dy].values)\n"
   ]
  },
  {
   "cell_type": "code",
   "execution_count": null,
   "id": "ignored-imaging",
   "metadata": {},
   "outputs": [],
   "source": [
    "# plotting the quiver\n",
    "fig, ax = plt.subplots(1, 1, figsize=(10, 8))\n",
    "\n",
    "ax.contour(bat.mbathy, colors='grey', levels=8, linewidths=0.4)\n",
    "\n",
    "c = ax.quiver(y_grid, \n",
    "        x_grid,\n",
    "        u_grid/vel_grid,\n",
    "        v_grid/vel_grid,\n",
    "        vel_grid,\n",
    "        scale = 40,  \n",
    "        width=0.003,\n",
    "        #headwidth=2,\n",
    "        #headlength=1,\n",
    "        cmap = cmap_r) \n",
    "\n",
    "fig.colorbar(c,orientation='vertical', pad = 0.04, aspect=50, extendrect=True)\n",
    "         \n",
    "plt.title(f'Quiverplot of the current at '+ str(depth) + 'm depth')\n",
    "# Arctic\n",
    "ax.set_xlim(200,1400)\n",
    "ax.set_ylim(800,1800)\n",
    "\n",
    "plt.show()"
   ]
  },
  {
   "cell_type": "code",
   "execution_count": null,
   "id": "distinct-import",
   "metadata": {},
   "outputs": [],
   "source": []
  }
 ],
 "metadata": {
  "kernelspec": {
   "display_name": "Python 3",
   "language": "python",
   "name": "python3"
  },
  "language_info": {
   "codemirror_mode": {
    "name": "ipython",
    "version": 3
   },
   "file_extension": ".py",
   "mimetype": "text/x-python",
   "name": "python",
   "nbconvert_exporter": "python",
   "pygments_lexer": "ipython3",
   "version": "3.8.8"
  }
 },
 "nbformat": 4,
 "nbformat_minor": 5
}
