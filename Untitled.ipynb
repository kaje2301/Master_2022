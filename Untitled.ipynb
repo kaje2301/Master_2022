{
 "cells": [
  {
   "cell_type": "code",
   "execution_count": 1,
   "id": "catholic-header",
   "metadata": {},
   "outputs": [],
   "source": [
    "# importing tools \n",
    "import s3fs\n",
    "import xarray as xr\n",
    "import numpy as np \n",
    "import matplotlib.pyplot as plt \n",
    "#for removing warnings\n",
    "import warnings"
   ]
  },
  {
   "cell_type": "code",
   "execution_count": 4,
   "id": "literary-manor",
   "metadata": {},
   "outputs": [],
   "source": [
    "# open the data with s3fs from the databucket \n",
    "fsg = s3fs.S3FileSystem(anon=False,\n",
    "      client_kwargs={\n",
    "         'endpoint_url': 'https://karen.uiogeo-apps.sigma2.no'\n",
    "      })\n",
    "#data_path2 = 's3://data/vel_dataIII.zarr/vel_dataIII.zarr'\n",
    "data_path1 = 's3://velocity-u.zarr'\n",
    "data_path2 = 's3://velocity-v.zarr'\n",
    "data_path3 = 's3://data/CREG12.L75-REF08_mesh_zgr.zarr'\n",
    "remote_files1 = fsg.glob(data_path1)\n",
    "remote_files2 = fsg.glob(data_path2)\n",
    "remote_files3 = fsg.glob(data_path3)\n",
    "\n",
    "store1 = s3fs.S3Map(root=data_path1, s3=fsg, check=False)\n",
    "store2 = s3fs.S3Map(root=data_path2, s3=fsg, check=False)\n",
    "store3 = s3fs.S3Map(root=data_path3, s3=fsg, check=False)\n",
    "\n",
    "du = xr.open_zarr(store=store1, consolidated=True)\n",
    "dv = xr.open_zarr(store=store2, consolidated=True)\n",
    "dzz = xr.open_zarr(store=store3, consolidated=True)"
   ]
  },
  {
   "cell_type": "code",
   "execution_count": null,
   "id": "going-health",
   "metadata": {},
   "outputs": [],
   "source": []
  }
 ],
 "metadata": {
  "kernelspec": {
   "display_name": "Python 3",
   "language": "python",
   "name": "python3"
  },
  "language_info": {
   "codemirror_mode": {
    "name": "ipython",
    "version": 3
   },
   "file_extension": ".py",
   "mimetype": "text/x-python",
   "name": "python",
   "nbconvert_exporter": "python",
   "pygments_lexer": "ipython3",
   "version": "3.8.8"
  }
 },
 "nbformat": 4,
 "nbformat_minor": 5
}
