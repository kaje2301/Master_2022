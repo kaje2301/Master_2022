{
 "cells": [
  {
   "cell_type": "code",
   "execution_count": null,
   "id": "disciplinary-chess",
   "metadata": {},
   "outputs": [],
   "source": [
    "import matplotlib.pyplot as plt \n",
    "import numpy as np \n",
    "import xarray as xr"
   ]
  },
  {
   "cell_type": "code",
   "execution_count": null,
   "id": "bigger-bullet",
   "metadata": {},
   "outputs": [],
   "source": []
  },
  {
   "cell_type": "code",
   "execution_count": null,
   "id": "weird-hebrew",
   "metadata": {},
   "outputs": [],
   "source": [
    "filedir = '/uio/lagringshotell/geofag/students/metos/kaervik/Master/'\n",
    "\n",
    "bat = xr.open_mfdataset(filedir + '/CREG12.L75.script/bathym.nc')\n",
    "botvel = xr.open_mfdataset(filedir + 'botvel.nc')\n",
    "ub = xr.open_mfdataset(filedir + 'ub.nc')\n",
    "vb = xr.open_mfdataset(filedir + 'vb.nc')"
   ]
  },
  {
   "cell_type": "code",
   "execution_count": null,
   "id": "present-tradition",
   "metadata": {},
   "outputs": [],
   "source": [
    "cmap_r = plt.get_cmap('magma_r')\n",
    "\n",
    "# Smoothening bottom velocity data \n",
    "ubs = ub.rolling(x=10).mean()\n",
    "vbs = vb.rolling(y=10).mean()\n",
    "bvels = (ubs.vozocrtx**2 + vbs.vomecrty**2)**0.5\n"
   ]
  },
  {
   "cell_type": "code",
   "execution_count": null,
   "id": "invalid-trader",
   "metadata": {},
   "outputs": [],
   "source": [
    "# Quiver\n",
    "\n",
    "c = 15\n",
    "N = 100\n",
    "\n",
    "x = np.linspace(0, 1801, 1801)\n",
    "dx = 10 # for close area\n",
    "x.shape\n",
    "\n",
    "y = np.linspace(0, 1580, 1580)\n",
    "dy = 10\n",
    "y.shape\n",
    "\n",
    "X, Y = np.meshgrid(x, y)\n",
    "X.T.shape\n",
    "\n",
    "\n",
    "# Grid to make it faster \n",
    "y_grid = np.array(Y.T[::dx, ::dy])\n",
    "x_grid = np.array(X.T[::dx, ::dy])\n",
    "u_grid = np.array(ubs.vozocrtx[::dx, ::dy].values)\n",
    "v_grid = np.array(vbs.vomecrty[::dx, ::dy].values)\n",
    "vel_grid = np.array(bvels[::dx, ::dy].values)\n",
    "\n",
    "#n = 1501 # for [::5]\n",
    "#n = 3634 # for [::2]\n",
    "n = 7189 # for [:::]\n",
    "levels = np.linspace(0,0.5,n)"
   ]
  },
  {
   "cell_type": "code",
   "execution_count": null,
   "id": "sporting-flush",
   "metadata": {},
   "outputs": [],
   "source": [
    "# plotting the quiver\n",
    "fig, ax = plt.subplots(1, 1, figsize=(10, 8))\n",
    "\n",
    "ax.contour(bat.mbathy, colors='grey', levels=8, linewidths=0.4)\n",
    "\n",
    "c = ax.quiver(y_grid, \n",
    "        x_grid,\n",
    "        #u_grid[::2], v_grid[::2],\n",
    "        u_grid/vel_grid,\n",
    "        v_grid/vel_grid,\n",
    "        vel_grid,\n",
    "        #levels,\n",
    "        scale = 40,  \n",
    "        width=0.003,\n",
    "        cmap=cmap_r)\n",
    "\n",
    "fig.colorbar(c,orientation='vertical', pad = 0.04, aspect=50, extendrect=True)\n",
    "         \n",
    "plt.title('Quiverplot of the bottom current')\n",
    "# Arctic\n",
    "ax.set_xlim(200,1400)\n",
    "ax.set_ylim(800,1800)\n",
    "\n",
    "plt.show()\n"
   ]
  },
  {
   "cell_type": "code",
   "execution_count": null,
   "id": "graphic-chemistry",
   "metadata": {},
   "outputs": [],
   "source": []
  },
  {
   "cell_type": "code",
   "execution_count": null,
   "id": "prompt-frequency",
   "metadata": {},
   "outputs": [],
   "source": []
  },
  {
   "cell_type": "code",
   "execution_count": null,
   "id": "starting-newton",
   "metadata": {},
   "outputs": [],
   "source": []
  }
 ],
 "metadata": {
  "kernelspec": {
   "display_name": "Python 3",
   "language": "python",
   "name": "python3"
  },
  "language_info": {
   "codemirror_mode": {
    "name": "ipython",
    "version": 3
   },
   "file_extension": ".py",
   "mimetype": "text/x-python",
   "name": "python",
   "nbconvert_exporter": "python",
   "pygments_lexer": "ipython3",
   "version": "3.8.8"
  }
 },
 "nbformat": 4,
 "nbformat_minor": 5
}
