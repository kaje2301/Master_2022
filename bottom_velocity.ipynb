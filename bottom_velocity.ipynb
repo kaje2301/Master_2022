{
 "cells": [
  {
   "cell_type": "code",
   "execution_count": null,
   "id": "agreed-reader",
   "metadata": {},
   "outputs": [],
   "source": [
    "import xarray as xr\n",
    "import matplotlib.pyplot as plt\n",
    "import numpy as np"
   ]
  },
  {
   "cell_type": "code",
   "execution_count": null,
   "id": "hearing-publicity",
   "metadata": {},
   "outputs": [],
   "source": []
  },
  {
   "cell_type": "code",
   "execution_count": null,
   "id": "hybrid-fantasy",
   "metadata": {},
   "outputs": [],
   "source": [
    "filedir = '/uio/lagringshotell/geofag/students/metos/kaervik/Master/'\n",
    "v = xr.open_mfdataset(filedir + 'vbar.nc')\n",
    "u = xr.open_mfdataset(filedir + 'ubar.nc')\n",
    "bat = xr.open_mfdataset(filedir + '/CREG12.L75.script/bathym.nc')\n",
    "botvel = xr.open_mfdataset(filedir + 'botvel.nc')"
   ]
  },
  {
   "cell_type": "code",
   "execution_count": null,
   "id": "northern-purse",
   "metadata": {},
   "outputs": [],
   "source": [
    "u = u*73\n",
    "v = v*73"
   ]
  },
  {
   "cell_type": "code",
   "execution_count": null,
   "id": "increased-architect",
   "metadata": {},
   "outputs": [],
   "source": [
    "cmap_r = plt.get_cmap(\"magma_r\")"
   ]
  },
  {
   "cell_type": "code",
   "execution_count": null,
   "id": "integral-ticket",
   "metadata": {},
   "outputs": [],
   "source": [
    "# Making bottom velocity data\n",
    "d = bat.mbathy.values-1\n",
    "d[d==-1] = 0\n",
    "\n",
    "d = xr.DataArray(d, dims=['y','x'])\n",
    "\n",
    "vb = v.isel(depth=d)\n",
    "ub = u.isel(depth=d)\n",
    "\n",
    "#botvel = (ub.vozocrtx**2 + vb.vomecrty**2)**0.5"
   ]
  },
  {
   "cell_type": "code",
   "execution_count": null,
   "id": "announced-forge",
   "metadata": {},
   "outputs": [],
   "source": [
    "#ub.to_netcdf(path='/uio/lagringshotell/geofag/students/metos/kaervik/Master/ub.nc')\n",
    "#vb.to_netcdf(path='/uio/lagringshotell/geofag/students/metos/kaervik/Master/vb.nc')\n",
    "#bat = bat.to_array()"
   ]
  },
  {
   "cell_type": "code",
   "execution_count": null,
   "id": "otherwise-console",
   "metadata": {},
   "outputs": [],
   "source": [
    "# smoothening data\n",
    "ubs = ub.rolling(x=10).mean()\n",
    "vbs = vb.rolling(y=10).mean()\n",
    "bvels = (us.vozocrtx**2 + vs.vomecrty**2)**0.5"
   ]
  },
  {
   "cell_type": "code",
   "execution_count": null,
   "id": "broken-liabilities",
   "metadata": {},
   "outputs": [],
   "source": [
    "# Velocity figure\n",
    "cmap_r = plt.get_cmap(\"magma_r\")\n",
    "fig, ax = plt.subplots(1, 1, figsize=(10, 8))\n",
    "levels = np.arange(0,0.3,0.01)\n",
    "cf = ax.contourf(botvel,levels=levels,cmap=cmap_r)\n",
    "# adding the bathymetri\n",
    "cs = ax.contour(bat['mbathy'], colors='grey', levels=5, linewidths=0.4)\n",
    "plt.title('Yearly averaged bottom velocity with bathymetri')\n",
    "cbar = plt.colorbar(cf, orientation='vertical', pad=0.04, aspect=50, extendrect=True)\n",
    "cbar.set_label('Velocity [m/s]')\n",
    "# for zooming in on a area\n",
    "ax.set_xlim(200,1400)\n",
    "ax.set_ylim(800,1800)\n",
    "#ax.set_xlim(1000,1400)\n",
    "#ax.set_ylim(500,1000)\n",
    "# with latitude lines"
   ]
  },
  {
   "cell_type": "code",
   "execution_count": null,
   "id": "corrected-madrid",
   "metadata": {},
   "outputs": [],
   "source": [
    "#%%\n",
    "c = 15\n",
    "N = 100\n",
    "\n",
    "x = np.linspace(0, 1801, 1801)\n",
    "#dx = 20 # for the whole area\n",
    "dx = 20 # for close area\n",
    "x.shape\n",
    "\n",
    "y = np.linspace(0, 1580, 1580)\n",
    "#dy = 20\n",
    "dy = 20\n",
    "y.shape\n",
    "\n",
    "X, Y = np.meshgrid(x, y)\n",
    "X.T.shape\n",
    "\n",
    "\n",
    "# plotting the quiver\n",
    "fig, ax = plt.subplots(1, 1, figsize=(10, 8))\n",
    "#c = ax.contourf(svel,cmap=cmap_r, levels=levels)\n",
    "ax.contour(bat['mbathy'], colors='grey', levels=5, linewidths=0.4)\n",
    "ax.quiver(Y.T[::dx, ::dy], X.T[::dx, ::dy],\n",
    "          ub.vozocrtx[::dx, ::dy], vb.vomecrty[::dx, ::dy], scale=2) # Only taking each dx * dy box\n",
    "            # scale dicide the length of the arrow\n",
    "            # = 3 worked for close\n",
    "            # = 10 worked for thw whole area\n",
    "plt.title('Quiverplot of the bottom current')\n",
    "#ax.set_xlim(1000,1400)\n",
    "#ax.set_ylim(500,1000)\n",
    "#gyre\n",
    "ax.set_xlim(200,1400)\n",
    "ax.set_ylim(800,1800)\n",
    "#ax.show"
   ]
  }
 ],
 "metadata": {
  "kernelspec": {
   "display_name": "Python 3",
   "language": "python",
   "name": "python3"
  },
  "language_info": {
   "codemirror_mode": {
    "name": "ipython",
    "version": 3
   },
   "file_extension": ".py",
   "mimetype": "text/x-python",
   "name": "python",
   "nbconvert_exporter": "python",
   "pygments_lexer": "ipython3",
   "version": "3.8.8"
  }
 },
 "nbformat": 4,
 "nbformat_minor": 5
}
