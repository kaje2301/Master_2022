{
 "cells": [
  {
   "cell_type": "code",
   "execution_count": null,
   "id": "olive-talent",
   "metadata": {},
   "outputs": [],
   "source": [
    "import xarray as xr\n",
    "import matplotlib.pyplot as plt\n",
    "import numpy as np"
   ]
  },
  {
   "cell_type": "code",
   "execution_count": null,
   "id": "configured-america",
   "metadata": {},
   "outputs": [],
   "source": []
  },
  {
   "cell_type": "code",
   "execution_count": null,
   "id": "statutory-exhaust",
   "metadata": {},
   "outputs": [],
   "source": [
    "filedir = '/uio/lagringshotell/geofag/students/metos/kaervik/Master/'\n",
    "v = xr.open_mfdataset(filedir + 'vbar.nc')\n",
    "u = xr.open_mfdataset(filedir + 'ubar.nc')\n",
    "bat = xr.open_mfdataset(filedir + '/CREG12.L75.script/bathym.nc')\n",
    "botvel = xr.open_mfdataset(filedir + 'botvel.nc')"
   ]
  },
  {
   "cell_type": "code",
   "execution_count": null,
   "id": "expired-reader",
   "metadata": {},
   "outputs": [],
   "source": [
    "u = u*73\n",
    "v = v*73"
   ]
  },
  {
   "cell_type": "code",
   "execution_count": null,
   "id": "medium-couple",
   "metadata": {},
   "outputs": [],
   "source": [
    "cmap_r = plt.get_cmap(\"magma_r\")"
   ]
  },
  {
   "cell_type": "code",
   "execution_count": null,
   "id": "ambient-frequency",
   "metadata": {},
   "outputs": [],
   "source": [
    "# Making bottom velocity data\n",
    "d = bat.mbathy.values-1\n",
    "d[d==-1] = 0\n",
    "\n",
    "d = xr.DataArray(d, dims=['y','x'])\n",
    "\n",
    "vb = v.isel(depth=d)\n",
    "ub = u.isel(depth=d)\n",
    "\n",
    "#botvel = (ub.vozocrtx**2 + vb.vomecrty**2)**0.5"
   ]
  },
  {
   "cell_type": "code",
   "execution_count": null,
   "id": "sitting-listening",
   "metadata": {},
   "outputs": [],
   "source": [
    "#ub.to_netcdf(path='/uio/lagringshotell/geofag/students/metos/kaervik/Master/ub.nc')\n",
    "#vb.to_netcdf(path='/uio/lagringshotell/geofag/students/metos/kaervik/Master/vb.nc')\n",
    "#bat = bat.to_array()"
   ]
  },
  {
   "cell_type": "code",
   "execution_count": null,
   "id": "leading-richardson",
   "metadata": {},
   "outputs": [],
   "source": []
  },
  {
   "cell_type": "code",
   "execution_count": null,
   "id": "informational-rating",
   "metadata": {},
   "outputs": [],
   "source": []
  },
  {
   "cell_type": "code",
   "execution_count": null,
   "id": "seventh-controversy",
   "metadata": {},
   "outputs": [],
   "source": []
  }
 ],
 "metadata": {
  "kernelspec": {
   "display_name": "Python 3",
   "language": "python",
   "name": "python3"
  },
  "language_info": {
   "codemirror_mode": {
    "name": "ipython",
    "version": 3
   },
   "file_extension": ".py",
   "mimetype": "text/x-python",
   "name": "python",
   "nbconvert_exporter": "python",
   "pygments_lexer": "ipython3",
   "version": "3.8.8"
  }
 },
 "nbformat": 4,
 "nbformat_minor": 5
}
