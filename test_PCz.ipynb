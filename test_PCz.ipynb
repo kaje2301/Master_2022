{
 "cells": [
  {
   "cell_type": "code",
   "execution_count": 1,
   "id": "taken-composite",
   "metadata": {},
   "outputs": [],
   "source": [
    "import math\n",
    "import xarray as xr\n",
    "import matplotlib.pyplot as plt \n",
    "import numpy as np "
   ]
  },
  {
   "cell_type": "code",
   "execution_count": 2,
   "id": "alpha-blond",
   "metadata": {},
   "outputs": [
    {
     "data": {
      "text/plain": [
       "(365, 6)"
      ]
     },
     "execution_count": 2,
     "metadata": {},
     "output_type": "execute_result"
    }
   ],
   "source": [
    "level = np.linspace(0,50,6)\n",
    "depth = 50 \n",
    "time = np.linspace(0,364,365)\n",
    "omg = (2*math.pi)/20\n",
    "omg2 = (2*math.pi)/5\n",
    "A2 = 1\n",
    "A1 = 0.3*A2\n",
    "\n",
    "u = np.full((int(len(time)),int(len(level))),np.nan)\n",
    "u.shape"
   ]
  },
  {
   "cell_type": "code",
   "execution_count": 3,
   "id": "friendly-norway",
   "metadata": {},
   "outputs": [
    {
     "data": {
      "text/plain": [
       "array([ 0., 10., 20., 30., 40., 50.])"
      ]
     },
     "execution_count": 3,
     "metadata": {},
     "output_type": "execute_result"
    }
   ],
   "source": [
    "level"
   ]
  },
  {
   "cell_type": "code",
   "execution_count": 4,
   "id": "fluid-tennessee",
   "metadata": {},
   "outputs": [],
   "source": [
    "for t in range(len(time)): \n",
    "    for z in range(len(level)): \n",
    "        u[t,z] = A1*math.cos((math.pi/depth)*level[z])*math.cos(-omg*time[t]) #+ A2*math.cos((math.pi/depth)*level[z])*math.cos(-omg2*time[t])\n",
    "        "
   ]
  },
  {
   "cell_type": "code",
   "execution_count": 5,
   "id": "exclusive-finger",
   "metadata": {},
   "outputs": [
    {
     "data": {
      "text/plain": [
       "[<matplotlib.lines.Line2D at 0x7fad1beaed90>]"
      ]
     },
     "execution_count": 5,
     "metadata": {},
     "output_type": "execute_result"
    },
    {
     "data": {
      "image/png": "[encoded data removed]",
      "text/plain": [
       "<Figure size 432x288 with 1 Axes>"
      ]
     },
     "metadata": {
      "needs_background": "light"
     },
     "output_type": "display_data"
    }
   ],
   "source": [
    "plt.plot(u[:,0],time)"
   ]
  },
  {
   "cell_type": "code",
   "execution_count": 6,
   "id": "classical-theater",
   "metadata": {},
   "outputs": [
    {
     "data": {
      "text/plain": [
       "(365, 6)"
      ]
     },
     "execution_count": 6,
     "metadata": {},
     "output_type": "execute_result"
    }
   ],
   "source": [
    "u.shape"
   ]
  },
  {
   "cell_type": "code",
   "execution_count": 7,
   "id": "republican-deployment",
   "metadata": {},
   "outputs": [
    {
     "name": "stdout",
     "output_type": "stream",
     "text": [
      "values:  [ 1.57899888e-01 -1.91012355e-17 -9.08768063e-17  7.02216535e-18\n",
      " -1.63731703e-18  1.42975596e-18]\n",
      "------------------------------------------------------\n",
      "values[0]:  0.15789988806007912\n",
      "------------------------------------------------------\n",
      "vectors:  [[-0.53452248  0.65375616 -0.5734957   0.01977144  0.0046594  -0.00559866]\n",
      " [-0.43243777  0.06491819  0.50603207 -0.56150948 -0.15678955 -0.23212657]\n",
      " [-0.16517653 -0.11185524  0.03490427 -0.47587879 -0.1163481   0.95496206]\n",
      " [ 0.16517653  0.07981811 -0.07203609  0.20380574 -0.97367177 -0.06657051]\n",
      " [ 0.43243777 -0.106909   -0.55470045 -0.63118184  0.03961919 -0.05196718]\n",
      " [ 0.53452248  0.73353695  0.31770132 -0.13389652  0.11068898  0.16432025]]\n",
      "------------------------------------------------------\n",
      "vectors[0]:  [-0.53452248  0.65375616 -0.5734957   0.01977144  0.0046594  -0.00559866]\n",
      "-----------------------------------------------------------\n",
      "-----------------------------------------------------------\n",
      "(6, 6)\n",
      "cov : [[ 0.04511425  0.0364982   0.01394107 -0.01394107 -0.0364982  -0.04511425]\n",
      " [ 0.0364982   0.02952766  0.01127856 -0.01127856 -0.02952766 -0.0364982 ]\n",
      " [ 0.01394107  0.01127856  0.00430803 -0.00430803 -0.01127856 -0.01394107]\n",
      " [-0.01394107 -0.01127856 -0.00430803  0.00430803  0.01127856  0.01394107]\n",
      " [-0.0364982  -0.02952766 -0.01127856  0.01127856  0.02952766  0.0364982 ]\n",
      " [-0.04511425 -0.0364982  -0.01394107  0.01394107  0.0364982   0.04511425]]\n",
      "------------------------------------------------------\n",
      "values:  [ 1.57899888e-01  7.02216535e-18  1.42975596e-18 -1.63731703e-18\n",
      " -1.91012355e-17 -9.08768063e-17]\n",
      "------------------------------------------------------\n",
      "values[0]:  0.15789988806007912\n",
      "------------------------------------------------------\n",
      "vectors:  [[-0.53452248  0.01977144 -0.00559866  0.0046594   0.65375616 -0.5734957 ]\n",
      " [-0.43243777 -0.56150948 -0.23212657 -0.15678955  0.06491819  0.50603207]\n",
      " [-0.16517653 -0.47587879  0.95496206 -0.1163481  -0.11185524  0.03490427]\n",
      " [ 0.16517653  0.20380574 -0.06657051 -0.97367177  0.07981811 -0.07203609]\n",
      " [ 0.43243777 -0.63118184 -0.05196718  0.03961919 -0.106909   -0.55470045]\n",
      " [ 0.53452248 -0.13389652  0.16432025  0.11068898  0.73353695  0.31770132]]\n",
      "------------------------------------------------------\n",
      "vectors[0]:  [-0.53452248  0.01977144 -0.00559866  0.0046594   0.65375616 -0.5734957 ]\n"
     ]
    }
   ],
   "source": [
    "cov = np.cov(u.T, bias=True) # uten .T ble den en 73x73 matrise \n",
    "values, vectors = np.linalg.eig(cov)\n",
    "print('values: ', values) \n",
    "print('------------------------------------------------------')    \n",
    "print('values[0]: ', values[0])\n",
    "print('------------------------------------------------------') \n",
    "print('vectors: ', vectors) \n",
    "print('------------------------------------------------------')\n",
    "print('vectors[0]: ', vectors[0]) \n",
    "\n",
    "order = values.argsort()[::-1]\n",
    "values_, vectors_ = values[order], vectors[:, order]\n",
    "\n",
    "print('-----------------------------------------------------------')\n",
    "print('-----------------------------------------------------------')\n",
    "\n",
    "print(cov.shape) \n",
    "print('cov :', cov)\n",
    "print('------------------------------------------------------')    \n",
    "print('values: ',values_) \n",
    "print('------------------------------------------------------')    \n",
    "print('values[0]: ',values_[0]) \n",
    "print('------------------------------------------------------')    \n",
    "print('vectors: ',vectors_) \n",
    "print('------------------------------------------------------') \n",
    "print('vectors[0]: ',vectors_[0]) "
   ]
  },
  {
   "cell_type": "code",
   "execution_count": 8,
   "id": "viral-weather",
   "metadata": {},
   "outputs": [
    {
     "name": "stdout",
     "output_type": "stream",
     "text": [
      "0.15789988806007912\n",
      "---------------------\n",
      "0.15789988806007912\n"
     ]
    }
   ],
   "source": [
    "print(values[0])\n",
    "print('---------------------')\n",
    "print(values_[0])"
   ]
  },
  {
   "cell_type": "code",
   "execution_count": 9,
   "id": "married-monday",
   "metadata": {},
   "outputs": [
    {
     "name": "stdout",
     "output_type": "stream",
     "text": [
      "[ 1.57899888e-01 -1.91012355e-17 -9.08768063e-17  7.02216535e-18\n",
      " -1.63731703e-18  1.42975596e-18]\n",
      "---------------------\n",
      "[ 1.57899888e-01  7.02216535e-18  1.42975596e-18 -1.63731703e-18\n",
      " -1.91012355e-17 -9.08768063e-17]\n"
     ]
    }
   ],
   "source": [
    "print(values)\n",
    "print('---------------------')\n",
    "print(values_)"
   ]
  },
  {
   "cell_type": "code",
   "execution_count": 10,
   "id": "canadian-herald",
   "metadata": {},
   "outputs": [
    {
     "name": "stdout",
     "output_type": "stream",
     "text": [
      "[-0.53452248  0.65375616 -0.5734957   0.01977144  0.0046594  -0.00559866]\n",
      "---------------------\n",
      "[-0.53452248  0.01977144 -0.00559866  0.0046594   0.65375616 -0.5734957 ]\n"
     ]
    }
   ],
   "source": [
    "print(vectors[0])\n",
    "print('---------------------')\n",
    "print(vectors_[0])"
   ]
  },
  {
   "cell_type": "code",
   "execution_count": 11,
   "id": "acoustic-darwin",
   "metadata": {},
   "outputs": [
    {
     "name": "stdout",
     "output_type": "stream",
     "text": [
      "[[-0.53452248  0.65375616 -0.5734957   0.01977144  0.0046594  -0.00559866]\n",
      " [-0.43243777  0.06491819  0.50603207 -0.56150948 -0.15678955 -0.23212657]\n",
      " [-0.16517653 -0.11185524  0.03490427 -0.47587879 -0.1163481   0.95496206]\n",
      " [ 0.16517653  0.07981811 -0.07203609  0.20380574 -0.97367177 -0.06657051]\n",
      " [ 0.43243777 -0.106909   -0.55470045 -0.63118184  0.03961919 -0.05196718]\n",
      " [ 0.53452248  0.73353695  0.31770132 -0.13389652  0.11068898  0.16432025]]\n",
      "---------------------\n",
      "[[-0.53452248  0.01977144 -0.00559866  0.0046594   0.65375616 -0.5734957 ]\n",
      " [-0.43243777 -0.56150948 -0.23212657 -0.15678955  0.06491819  0.50603207]\n",
      " [-0.16517653 -0.47587879  0.95496206 -0.1163481  -0.11185524  0.03490427]\n",
      " [ 0.16517653  0.20380574 -0.06657051 -0.97367177  0.07981811 -0.07203609]\n",
      " [ 0.43243777 -0.63118184 -0.05196718  0.03961919 -0.106909   -0.55470045]\n",
      " [ 0.53452248 -0.13389652  0.16432025  0.11068898  0.73353695  0.31770132]]\n"
     ]
    }
   ],
   "source": [
    "print(vectors)\n",
    "print('---------------------')\n",
    "print(vectors_)"
   ]
  },
  {
   "cell_type": "code",
   "execution_count": 12,
   "id": "rolled-fever",
   "metadata": {},
   "outputs": [
    {
     "data": {
      "image/png": "[encoded data removed]",
      "text/plain": [
       "<Figure size 504x504 with 2 Axes>"
      ]
     },
     "metadata": {
      "needs_background": "light"
     },
     "output_type": "display_data"
    }
   ],
   "source": [
    "fig, (ax1,ax2) = plt.subplots(1,2,figsize = (7,7))\n",
    "\n",
    "ax1.plot(vectors_[0]*np.sqrt(values_[0]),level)\n",
    "ax1.axvline(0, color='r', linestyle = '--')\n",
    "ax1.invert_yaxis()\n",
    "\n",
    "ax2.plot(vectors_[1]*np.sqrt(values_[1]),level)\n",
    "ax2.axvline(0, color='r', linestyle = '--')\n",
    "ax2.invert_yaxis()"
   ]
  },
  {
   "cell_type": "code",
   "execution_count": 13,
   "id": "filled-hollywood",
   "metadata": {},
   "outputs": [],
   "source": [
    "cov = np.cov(u.T, bias=True) # uten .T ble den en 73x73 matrise \n",
    "values, vectors = np.linalg.eig(cov)\n",
    "order = values.argsort()[::-1]\n",
    "values_, vectors_ = values[order], vectors[order,:]"
   ]
  },
  {
   "cell_type": "code",
   "execution_count": 14,
   "id": "pressing-excitement",
   "metadata": {},
   "outputs": [
    {
     "data": {
      "image/png": "[encoded data removed]",
      "text/plain": [
       "<Figure size 504x504 with 2 Axes>"
      ]
     },
     "metadata": {
      "needs_background": "light"
     },
     "output_type": "display_data"
    }
   ],
   "source": [
    "fig, (ax1,ax2) = plt.subplots(1,2,figsize = (7,7))\n",
    "\n",
    "ax1.plot(vectors_[0]*np.sqrt(values_[0]),level)\n",
    "ax1.axvline(0, color='r', linestyle = '--')\n",
    "ax1.invert_yaxis()\n",
    "\n",
    "ax2.plot(vectors_[1]*np.sqrt(values_[1]),level)\n",
    "ax2.axvline(0, color='r', linestyle = '--')\n",
    "ax2.invert_yaxis()"
   ]
  },
  {
   "cell_type": "code",
   "execution_count": 15,
   "id": "parental-investigation",
   "metadata": {},
   "outputs": [
    {
     "name": "stdout",
     "output_type": "stream",
     "text": [
      "0.15789988806007912\n",
      "---------------------\n",
      "0.15789988806007912\n"
     ]
    }
   ],
   "source": [
    "print(values[0])\n",
    "print('---------------------')\n",
    "print(values_[0])"
   ]
  },
  {
   "cell_type": "code",
   "execution_count": 16,
   "id": "developing-gardening",
   "metadata": {},
   "outputs": [
    {
     "name": "stdout",
     "output_type": "stream",
     "text": [
      "[ 1.57899888e-01 -1.91012355e-17 -9.08768063e-17  7.02216535e-18\n",
      " -1.63731703e-18  1.42975596e-18]\n",
      "---------------------\n",
      "[ 1.57899888e-01  7.02216535e-18  1.42975596e-18 -1.63731703e-18\n",
      " -1.91012355e-17 -9.08768063e-17]\n"
     ]
    }
   ],
   "source": [
    "print(values)\n",
    "print('---------------------')\n",
    "print(values_)"
   ]
  },
  {
   "cell_type": "code",
   "execution_count": 17,
   "id": "optimum-dominican",
   "metadata": {},
   "outputs": [
    {
     "name": "stdout",
     "output_type": "stream",
     "text": [
      "[-0.53452248  0.65375616 -0.5734957   0.01977144  0.0046594  -0.00559866]\n",
      "---------------------\n",
      "[-0.53452248  0.65375616 -0.5734957   0.01977144  0.0046594  -0.00559866]\n"
     ]
    }
   ],
   "source": [
    "print(vectors[0])\n",
    "print('---------------------')\n",
    "print(vectors_[0])"
   ]
  },
  {
   "cell_type": "code",
   "execution_count": 18,
   "id": "infinite-hello",
   "metadata": {},
   "outputs": [
    {
     "name": "stdout",
     "output_type": "stream",
     "text": [
      "[[-0.53452248  0.65375616 -0.5734957   0.01977144  0.0046594  -0.00559866]\n",
      " [-0.43243777  0.06491819  0.50603207 -0.56150948 -0.15678955 -0.23212657]\n",
      " [-0.16517653 -0.11185524  0.03490427 -0.47587879 -0.1163481   0.95496206]\n",
      " [ 0.16517653  0.07981811 -0.07203609  0.20380574 -0.97367177 -0.06657051]\n",
      " [ 0.43243777 -0.106909   -0.55470045 -0.63118184  0.03961919 -0.05196718]\n",
      " [ 0.53452248  0.73353695  0.31770132 -0.13389652  0.11068898  0.16432025]]\n",
      "---------------------\n",
      "[[-0.53452248  0.65375616 -0.5734957   0.01977144  0.0046594  -0.00559866]\n",
      " [ 0.16517653  0.07981811 -0.07203609  0.20380574 -0.97367177 -0.06657051]\n",
      " [ 0.53452248  0.73353695  0.31770132 -0.13389652  0.11068898  0.16432025]\n",
      " [ 0.43243777 -0.106909   -0.55470045 -0.63118184  0.03961919 -0.05196718]\n",
      " [-0.43243777  0.06491819  0.50603207 -0.56150948 -0.15678955 -0.23212657]\n",
      " [-0.16517653 -0.11185524  0.03490427 -0.47587879 -0.1163481   0.95496206]]\n"
     ]
    }
   ],
   "source": [
    "print(vectors)\n",
    "print('---------------------')\n",
    "print(vectors_)"
   ]
  },
  {
   "cell_type": "code",
   "execution_count": null,
   "id": "active-elephant",
   "metadata": {},
   "outputs": [],
   "source": []
  },
  {
   "cell_type": "code",
   "execution_count": null,
   "id": "smart-protein",
   "metadata": {},
   "outputs": [],
   "source": []
  }
 ],
 "metadata": {
  "kernelspec": {
   "display_name": "Python 3",
   "language": "python",
   "name": "python3"
  },
  "language_info": {
   "codemirror_mode": {
    "name": "ipython",
    "version": 3
   },
   "file_extension": ".py",
   "mimetype": "text/x-python",
   "name": "python",
   "nbconvert_exporter": "python",
   "pygments_lexer": "ipython3",
   "version": "3.8.8"
  }
 },
 "nbformat": 4,
 "nbformat_minor": 5
}
