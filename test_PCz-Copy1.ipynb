{
 "cells": [
  {
   "cell_type": "code",
   "execution_count": 1,
   "id": "opposite-destiny",
   "metadata": {},
   "outputs": [],
   "source": [
    "import math\n",
    "import xarray as xr\n",
    "import matplotlib.pyplot as plt \n",
    "import numpy as np "
   ]
  },
  {
   "cell_type": "code",
   "execution_count": 2,
   "id": "minimal-ranking",
   "metadata": {},
   "outputs": [
    {
     "data": {
      "text/plain": [
       "(365, 6)"
      ]
     },
     "execution_count": 2,
     "metadata": {},
     "output_type": "execute_result"
    }
   ],
   "source": [
    "level = np.linspace(0,50,6)\n",
    "depth = 50 \n",
    "time = np.linspace(0,364,365)\n",
    "omg = (2*math.pi)/20\n",
    "omg2 = (2*math.pi)/5\n",
    "A2 = 1\n",
    "A1 = 0.3*A2\n",
    "\n",
    "u = np.full((int(len(time)),int(len(level))),np.nan)\n",
    "u.shape"
   ]
  },
  {
   "cell_type": "code",
   "execution_count": 3,
   "id": "grateful-disability",
   "metadata": {},
   "outputs": [
    {
     "data": {
      "text/plain": [
       "array([ 0., 10., 20., 30., 40., 50.])"
      ]
     },
     "execution_count": 3,
     "metadata": {},
     "output_type": "execute_result"
    }
   ],
   "source": [
    "level"
   ]
  },
  {
   "cell_type": "code",
   "execution_count": 4,
   "id": "flush-screw",
   "metadata": {},
   "outputs": [],
   "source": [
    "for t in range(len(time)): \n",
    "    for z in range(len(level)): \n",
    "        u[t,z] = A1*math.cos((math.pi/depth)*level[z])*math.cos(-omg*time[t]) + A2*math.cos((math.pi/depth)*level[z])*math.cos(-omg2*time[t])\n",
    "        "
   ]
  },
  {
   "cell_type": "code",
   "execution_count": 5,
   "id": "protected-agreement",
   "metadata": {},
   "outputs": [
    {
     "data": {
      "text/plain": [
       "[<matplotlib.lines.Line2D at 0x7fec4288dd30>]"
      ]
     },
     "execution_count": 5,
     "metadata": {},
     "output_type": "execute_result"
    },
    {
     "data": {
      "image/png": "[encoded data removed]",
      "text/plain": [
       "<Figure size 432x288 with 1 Axes>"
      ]
     },
     "metadata": {
      "needs_background": "light"
     },
     "output_type": "display_data"
    }
   ],
   "source": [
    "plt.plot(u[:,0],time)"
   ]
  },
  {
   "cell_type": "code",
   "execution_count": 6,
   "id": "substantial-possible",
   "metadata": {},
   "outputs": [
    {
     "data": {
      "text/plain": [
       "(365, 6)"
      ]
     },
     "execution_count": 6,
     "metadata": {},
     "output_type": "execute_result"
    }
   ],
   "source": [
    "u.shape"
   ]
  },
  {
   "cell_type": "code",
   "execution_count": 7,
   "id": "southeast-product",
   "metadata": {},
   "outputs": [
    {
     "name": "stdout",
     "output_type": "stream",
     "text": [
      "values:  [ 1.90939202e+00 -9.48361191e-16 -1.00903741e-17  7.97687037e-17\n",
      "  1.79829938e-17 -2.10954247e-18]\n",
      "------------------------------------------------------\n",
      "values[0]:  1.9093920236343531\n",
      "------------------------------------------------------\n",
      "vectors:  [[-0.53452248  0.46658371  0.69337194 -0.00432018  0.00888919 -0.00572109]\n",
      " [-0.43243777 -0.53397147  0.0382508   0.51400117  0.06649515  0.33173198]\n",
      " [-0.16517653 -0.15619032 -0.01814714 -0.00204121  0.5385377  -0.71868608]\n",
      " [ 0.16517653  0.13147942  0.03509192 -0.50435539  0.83959434  0.59779949]\n",
      " [ 0.43243777  0.49711312 -0.01297344  0.69381272 -0.01397029 -0.11639461]\n",
      " [ 0.53452248 -0.45647608  0.71836144  0.00543284 -0.01904451 -0.04999548]]\n",
      "------------------------------------------------------\n",
      "vectors[0]:  [-0.53452248  0.46658371  0.69337194 -0.00432018  0.00888919 -0.00572109]\n",
      "-----------------------------------------------------------\n",
      "-----------------------------------------------------------\n",
      "(6, 6)\n",
      "cov : [[ 0.54554058  0.4413516   0.16858131 -0.16858131 -0.4413516  -0.54554058]\n",
      " [ 0.4413516   0.35706094  0.13638514 -0.13638514 -0.35706094 -0.4413516 ]\n",
      " [ 0.16858131  0.13638514  0.05209449 -0.05209449 -0.13638514 -0.16858131]\n",
      " [-0.16858131 -0.13638514 -0.05209449  0.05209449  0.13638514  0.16858131]\n",
      " [-0.4413516  -0.35706094 -0.13638514  0.13638514  0.35706094  0.4413516 ]\n",
      " [-0.54554058 -0.4413516  -0.16858131  0.16858131  0.4413516   0.54554058]]\n",
      "------------------------------------------------------\n",
      "values:  [ 1.90939202e+00  7.97687037e-17  1.79829938e-17 -2.10954247e-18\n",
      " -1.00903741e-17 -9.48361191e-16]\n",
      "------------------------------------------------------\n",
      "values[0]:  1.9093920236343531\n",
      "------------------------------------------------------\n",
      "vectors:  [[-0.53452248 -0.00432018  0.00888919 -0.00572109  0.69337194  0.46658371]\n",
      " [-0.43243777  0.51400117  0.06649515  0.33173198  0.0382508  -0.53397147]\n",
      " [-0.16517653 -0.00204121  0.5385377  -0.71868608 -0.01814714 -0.15619032]\n",
      " [ 0.16517653 -0.50435539  0.83959434  0.59779949  0.03509192  0.13147942]\n",
      " [ 0.43243777  0.69381272 -0.01397029 -0.11639461 -0.01297344  0.49711312]\n",
      " [ 0.53452248  0.00543284 -0.01904451 -0.04999548  0.71836144 -0.45647608]]\n",
      "------------------------------------------------------\n",
      "vectors[0]:  [-0.53452248 -0.00432018  0.00888919 -0.00572109  0.69337194  0.46658371]\n"
     ]
    }
   ],
   "source": [
    "cov = np.cov(u.T, bias=True) # uten .T ble den en 73x73 matrise \n",
    "values, vectors = np.linalg.eig(cov)\n",
    "print('values: ', values) \n",
    "print('------------------------------------------------------')    \n",
    "print('values[0]: ', values[0])\n",
    "print('------------------------------------------------------') \n",
    "print('vectors: ', vectors) \n",
    "print('------------------------------------------------------')\n",
    "print('vectors[0]: ', vectors[0]) \n",
    "\n",
    "order = values.argsort()[::-1]\n",
    "values_, vectors_ = values[order], vectors[:, order]\n",
    "\n",
    "print('-----------------------------------------------------------')\n",
    "print('-----------------------------------------------------------')\n",
    "\n",
    "print(cov.shape) \n",
    "print('cov :', cov)\n",
    "print('------------------------------------------------------')    \n",
    "print('values: ',values_) \n",
    "print('------------------------------------------------------')    \n",
    "print('values[0]: ',values_[0]) \n",
    "print('------------------------------------------------------')    \n",
    "print('vectors: ',vectors_) \n",
    "print('------------------------------------------------------') \n",
    "print('vectors[0]: ',vectors_[0]) "
   ]
  },
  {
   "cell_type": "code",
   "execution_count": 8,
   "id": "adopted-scratch",
   "metadata": {},
   "outputs": [
    {
     "name": "stdout",
     "output_type": "stream",
     "text": [
      "1.9093920236343531\n",
      "---------------------\n",
      "1.9093920236343531\n"
     ]
    }
   ],
   "source": [
    "print(values[0])\n",
    "print('---------------------')\n",
    "print(values_[0])"
   ]
  },
  {
   "cell_type": "code",
   "execution_count": 9,
   "id": "chinese-supplier",
   "metadata": {},
   "outputs": [
    {
     "name": "stdout",
     "output_type": "stream",
     "text": [
      "[ 1.90939202e+00 -9.48361191e-16 -1.00903741e-17  7.97687037e-17\n",
      "  1.79829938e-17 -2.10954247e-18]\n",
      "---------------------\n",
      "[ 1.90939202e+00  7.97687037e-17  1.79829938e-17 -2.10954247e-18\n",
      " -1.00903741e-17 -9.48361191e-16]\n"
     ]
    }
   ],
   "source": [
    "print(values)\n",
    "print('---------------------')\n",
    "print(values_)"
   ]
  },
  {
   "cell_type": "code",
   "execution_count": 10,
   "id": "respective-settlement",
   "metadata": {},
   "outputs": [
    {
     "name": "stdout",
     "output_type": "stream",
     "text": [
      "[-0.53452248  0.46658371  0.69337194 -0.00432018  0.00888919 -0.00572109]\n",
      "---------------------\n",
      "[-0.53452248 -0.00432018  0.00888919 -0.00572109  0.69337194  0.46658371]\n"
     ]
    }
   ],
   "source": [
    "print(vectors[0])\n",
    "print('---------------------')\n",
    "print(vectors_[0])"
   ]
  },
  {
   "cell_type": "code",
   "execution_count": 11,
   "id": "voluntary-punishment",
   "metadata": {},
   "outputs": [
    {
     "name": "stdout",
     "output_type": "stream",
     "text": [
      "[[-0.53452248  0.46658371  0.69337194 -0.00432018  0.00888919 -0.00572109]\n",
      " [-0.43243777 -0.53397147  0.0382508   0.51400117  0.06649515  0.33173198]\n",
      " [-0.16517653 -0.15619032 -0.01814714 -0.00204121  0.5385377  -0.71868608]\n",
      " [ 0.16517653  0.13147942  0.03509192 -0.50435539  0.83959434  0.59779949]\n",
      " [ 0.43243777  0.49711312 -0.01297344  0.69381272 -0.01397029 -0.11639461]\n",
      " [ 0.53452248 -0.45647608  0.71836144  0.00543284 -0.01904451 -0.04999548]]\n",
      "---------------------\n",
      "[[-0.53452248 -0.00432018  0.00888919 -0.00572109  0.69337194  0.46658371]\n",
      " [-0.43243777  0.51400117  0.06649515  0.33173198  0.0382508  -0.53397147]\n",
      " [-0.16517653 -0.00204121  0.5385377  -0.71868608 -0.01814714 -0.15619032]\n",
      " [ 0.16517653 -0.50435539  0.83959434  0.59779949  0.03509192  0.13147942]\n",
      " [ 0.43243777  0.69381272 -0.01397029 -0.11639461 -0.01297344  0.49711312]\n",
      " [ 0.53452248  0.00543284 -0.01904451 -0.04999548  0.71836144 -0.45647608]]\n"
     ]
    }
   ],
   "source": [
    "print(vectors)\n",
    "print('---------------------')\n",
    "print(vectors_)"
   ]
  },
  {
   "cell_type": "code",
   "execution_count": 12,
   "id": "filled-conservation",
   "metadata": {},
   "outputs": [
    {
     "data": {
      "image/png": "[encoded data removed]",
      "text/plain": [
       "<Figure size 504x504 with 2 Axes>"
      ]
     },
     "metadata": {
      "needs_background": "light"
     },
     "output_type": "display_data"
    }
   ],
   "source": [
    "fig, (ax1,ax2) = plt.subplots(1,2,figsize = (7,7))\n",
    "\n",
    "ax1.plot(vectors_[0]*np.sqrt(values_[0]),level)\n",
    "ax1.axvline(0, color='r', linestyle = '--')\n",
    "ax1.invert_yaxis()\n",
    "\n",
    "ax2.plot(vectors_[1]*np.sqrt(values_[1]),level)\n",
    "ax2.axvline(0, color='r', linestyle = '--')\n",
    "ax2.invert_yaxis()"
   ]
  },
  {
   "cell_type": "code",
   "execution_count": 13,
   "id": "nasty-spice",
   "metadata": {},
   "outputs": [],
   "source": [
    "cov = np.cov(u.T, bias=True) # uten .T ble den en 73x73 matrise \n",
    "values, vectors = np.linalg.eig(cov)\n",
    "order = values.argsort()[::-1]\n",
    "values_, vectors_ = values[order], vectors[order,:]"
   ]
  },
  {
   "cell_type": "code",
   "execution_count": 14,
   "id": "third-workstation",
   "metadata": {},
   "outputs": [
    {
     "data": {
      "image/png": "[encoded data removed]",
      "text/plain": [
       "<Figure size 504x504 with 2 Axes>"
      ]
     },
     "metadata": {
      "needs_background": "light"
     },
     "output_type": "display_data"
    }
   ],
   "source": [
    "fig, (ax1,ax2) = plt.subplots(1,2,figsize = (7,7))\n",
    "\n",
    "ax1.plot(vectors_[0]*np.sqrt(values_[0]),level)\n",
    "ax1.axvline(0, color='r', linestyle = '--')\n",
    "ax1.invert_yaxis()\n",
    "\n",
    "ax2.plot(vectors_[1]*np.sqrt(values_[1]),level)\n",
    "ax2.axvline(0, color='r', linestyle = '--')\n",
    "ax2.invert_yaxis()"
   ]
  },
  {
   "cell_type": "code",
   "execution_count": 15,
   "id": "respected-arrangement",
   "metadata": {},
   "outputs": [
    {
     "name": "stdout",
     "output_type": "stream",
     "text": [
      "1.9093920236343531\n",
      "---------------------\n",
      "1.9093920236343531\n"
     ]
    }
   ],
   "source": [
    "print(values[0])\n",
    "print('---------------------')\n",
    "print(values_[0])"
   ]
  },
  {
   "cell_type": "code",
   "execution_count": 16,
   "id": "accepted-handbook",
   "metadata": {},
   "outputs": [
    {
     "name": "stdout",
     "output_type": "stream",
     "text": [
      "[-0.53452248  0.46658371  0.69337194 -0.00432018  0.00888919 -0.00572109]\n",
      "---------------------\n",
      "[-0.53452248  0.46658371  0.69337194 -0.00432018  0.00888919 -0.00572109]\n"
     ]
    }
   ],
   "source": [
    "print(vectors[0])\n",
    "print('---------------------')\n",
    "print(vectors_[0])"
   ]
  },
  {
   "cell_type": "code",
   "execution_count": null,
   "id": "technical-diameter",
   "metadata": {},
   "outputs": [],
   "source": []
  },
  {
   "cell_type": "code",
   "execution_count": null,
   "id": "current-visiting",
   "metadata": {},
   "outputs": [],
   "source": []
  }
 ],
 "metadata": {
  "kernelspec": {
   "display_name": "Python 3",
   "language": "python",
   "name": "python3"
  },
  "language_info": {
   "codemirror_mode": {
    "name": "ipython",
    "version": 3
   },
   "file_extension": ".py",
   "mimetype": "text/x-python",
   "name": "python",
   "nbconvert_exporter": "python",
   "pygments_lexer": "ipython3",
   "version": "3.8.8"
  }
 },
 "nbformat": 4,
 "nbformat_minor": 5
}
