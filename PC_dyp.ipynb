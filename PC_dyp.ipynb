{
 "cells": [
  {
   "cell_type": "code",
   "execution_count": null,
   "id": "matched-webster",
   "metadata": {},
   "outputs": [],
   "source": [
    "import matplotlib.pyplot as plt \n",
    "import numpy as np \n",
    "import math \n",
    "import xarray as xr"
   ]
  },
  {
   "cell_type": "code",
   "execution_count": null,
   "id": "developmental-aluminum",
   "metadata": {},
   "outputs": [],
   "source": []
  },
  {
   "cell_type": "code",
   "execution_count": null,
   "id": "brutal-importance",
   "metadata": {},
   "outputs": [],
   "source": [
    "filedir = '/uio/lagringshotell/geofag/students/metos/kaervik/Master/'\n",
    "\n",
    "uvar = xr.open_mfdataset(filedir + 'uvar.nc')\n",
    "vvar = xr.open_mfdataset(filedir + 'vvar.nc')\n",
    "uv = xr.open_mfdataset(filedir + 'uv.nc')\n",
    "uv = uv.rename({'__xarray_dataarray_variable__' : 'vel'})\n",
    "bat = xr.open_mfdataset(filedir + '/CREG12.L75.script/bathym.nc')\n"
   ]
  },
  {
   "cell_type": "code",
   "execution_count": null,
   "id": "monetary-switzerland",
   "metadata": {},
   "outputs": [],
   "source": [
    "# Getting the bottom velocity \n",
    "d = bat.mbathy.values-1\n",
    "d[d==-1] = 0\n",
    "\n",
    "d = xr.DataArray(d, dims=['y','x'])\n",
    "\n",
    "uvar_b = uvar.isel(depth=d)\n",
    "vvar_b = vvar.isel(depth=d)\n",
    "uv_b = uv.isel(depth=d)"
   ]
  },
  {
   "cell_type": "code",
   "execution_count": null,
   "id": "emotional-study",
   "metadata": {},
   "outputs": [],
   "source": [
    "# Smoothening bottom velocity data \n",
    "uvar_b = uvar_b.rolling(x=10).mean()\n",
    "vvar_b = vvar_b.rolling(y=10).mean()\n",
    "uv_b = uv_b.rolling(x=10).mean()\n",
    "uv_b = uv_b.rolling(y=10).mean()\n",
    "\n",
    "print(uvar_b)\n",
    "print('------------')\n",
    "print(uv_b)\n",
    "print('-------------')\n",
    "#le = la \n"
   ]
  },
  {
   "cell_type": "code",
   "execution_count": null,
   "id": "affecting-welding",
   "metadata": {},
   "outputs": [],
   "source": [
    "# List of x,y elements\n",
    "dx = 20\n",
    "dy = 20\n",
    "#dx = 10 # need to figure out what the PC list are gonna be when dx dy = 10 \n",
    "#dy = 10\n",
    "\n",
    "jmax, imax = uv_b.vel.shape\n",
    "i_list = np.arange(0,imax,dx)\n",
    "j_list = np.arange(0,jmax,dy)"
   ]
  },
  {
   "cell_type": "code",
   "execution_count": null,
   "id": "peaceful-reporter",
   "metadata": {},
   "outputs": [],
   "source": [
    "#'''\n",
    "# Making the covmatrix and finding the eigenvalues and eigenvectors\n",
    "# ----------------------------------------------------------------------\n",
    "PC11 = np.zeros(3379)\n",
    "PC12 = np.zeros(3379)\n",
    "PC21 = np.zeros(3379)\n",
    "PC22 = np.zeros(3379)\n",
    "y = np.zeros(3379)\n",
    "x = np.zeros(3379)\n",
    "indx = 0"
   ]
  },
  {
   "cell_type": "code",
   "execution_count": null,
   "id": "bizarre-darkness",
   "metadata": {},
   "outputs": [],
   "source": [
    "# to get the loop to run faster\n",
    "uvy = np.array(uv.y.values)\n",
    "uvx = np.array(uv.x.values)\n",
    "\n",
    "# surface values\n",
    "uvarb = np.array(uvar_b.vozocrtx.values)\n",
    "vvarb = np.array(vvar_b.vomecrty.values)\n",
    "uvvel = np.array(uv_b.vel.values)"
   ]
  },
  {
   "cell_type": "code",
   "execution_count": null,
   "id": "honey-survey",
   "metadata": {},
   "outputs": [],
   "source": [
    "for i in i_list:\n",
    "    for j in j_list:\n",
    "        covm = np.array([[uvarb[j,i],uvvel[j,i]],\n",
    "        [uvvel[j,i],vvarb[j,i]]],dtype=float)\n",
    "        if np.isnan(covm).any():\n",
    "            continue\n",
    "        else:\n",
    "            values, vectors = np.linalg.eig(covm)\n",
    "            PC11[int(indx)] = vectors[0,0]*np.sqrt(values[0])\n",
    "            PC12[int(indx)] = vectors[1,0]*np.sqrt(values[0])\n",
    "            PC21[int(indx)] = vectors[0,1]*np.sqrt(values[1])\n",
    "            PC22[int(indx)] = vectors[1,1]*np.sqrt(values[1])\n",
    "            y[int(indx)] = uvy[j]\n",
    "            x[int(indx)] = uvx[i]\n",
    "            indx = indx + 1\n",
    "\n"
   ]
  },
  {
   "cell_type": "code",
   "execution_count": null,
   "id": "pressing-twelve",
   "metadata": {},
   "outputs": [],
   "source": [
    "# converting to np.arrays\n",
    "PC11 = np.array(PC11,dtype=float)\n",
    "PC12 = np.array(PC12,dtype=float)\n",
    "PC21 = np.array(PC21,dtype=float)\n",
    "PC22 = np.array(PC22,dtype=float)\n",
    "y = np.array(y,dtype=float)\n",
    "x = np.array(x,dtype=float)"
   ]
  },
  {
   "cell_type": "code",
   "execution_count": null,
   "id": "motivated-destiny",
   "metadata": {},
   "outputs": [],
   "source": [
    "# Plot\n",
    "fig, ax = plt.subplots(1,1,figsize=(10,10))\n",
    "cmap = plt.get_cmap('magma_r')\n",
    "ax.contour(bat.mbathy, colors='grey',levels=8, linewidths=0.4)\n",
    "ax.quiver( x[::1], y[::1], PC11[::1], PC12[::1], \n",
    "    #color='r',\n",
    "    headwidth=1,\n",
    "    headlength=1,\n",
    "    width=0.002,\n",
    "    scale=4)\n",
    "ax.quiver(x[::1], y[::1], -PC11[::1], -PC12[::1],\n",
    "    #color='r',\n",
    "    headwidth=1,\n",
    "    headlength=1,\n",
    "    width=0.002,\n",
    "    scale=4)\n",
    "ax.quiver( x[::1], y[::1], PC21[::1], PC22[::1],\n",
    "    #color='b',\n",
    "    headwidth=1,\n",
    "    headlength=1,\n",
    "    width=0.002,\n",
    "    scale=4)\n",
    "ax.quiver( x[::1], y[::1], -PC21[::1], -PC22[::1],\n",
    "    #color='b',\n",
    "    headwidth=1,\n",
    "    headlength=1,\n",
    "    width=0.002,\n",
    "    scale=4)\n",
    "ax.set_xlim(200,1400)\n",
    "ax.set_ylim(800,1800)\n",
    "plt.title('PC plot of the bottom current')\n",
    "\n",
    "plt.show()"
   ]
  },
  {
   "cell_type": "code",
   "execution_count": null,
   "id": "adjustable-uncle",
   "metadata": {},
   "outputs": [],
   "source": []
  }
 ],
 "metadata": {
  "kernelspec": {
   "display_name": "Python 3",
   "language": "python",
   "name": "python3"
  },
  "language_info": {
   "codemirror_mode": {
    "name": "ipython",
    "version": 3
   },
   "file_extension": ".py",
   "mimetype": "text/x-python",
   "name": "python",
   "nbconvert_exporter": "python",
   "pygments_lexer": "ipython3",
   "version": "3.8.8"
  }
 },
 "nbformat": 4,
 "nbformat_minor": 5
}
